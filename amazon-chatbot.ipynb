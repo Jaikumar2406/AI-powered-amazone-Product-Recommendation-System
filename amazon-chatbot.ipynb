{
 "cells": [
  {
   "cell_type": "code",
   "execution_count": 2,
   "id": "dfc1d6dd-11e6-4b10-9fee-6af680026f00",
   "metadata": {},
   "outputs": [],
   "source": [
    "import pandas as pd"
   ]
  },
  {
   "cell_type": "code",
   "execution_count": 3,
   "id": "5d2396fa-1546-4f21-a385-c4ec16f7924b",
   "metadata": {},
   "outputs": [],
   "source": [
    "data = pd.read_csv('amazon.csv')"
   ]
  },
  {
   "cell_type": "code",
   "execution_count": 4,
   "id": "1ecd5d79-832c-4c35-bf18-561ad5465f0f",
   "metadata": {},
   "outputs": [
    {
     "data": {
      "text/html": [
       "<div>\n",
       "<style scoped>\n",
       "    .dataframe tbody tr th:only-of-type {\n",
       "        vertical-align: middle;\n",
       "    }\n",
       "\n",
       "    .dataframe tbody tr th {\n",
       "        vertical-align: top;\n",
       "    }\n",
       "\n",
       "    .dataframe thead th {\n",
       "        text-align: right;\n",
       "    }\n",
       "</style>\n",
       "<table border=\"1\" class=\"dataframe\">\n",
       "  <thead>\n",
       "    <tr style=\"text-align: right;\">\n",
       "      <th></th>\n",
       "      <th>product_id</th>\n",
       "      <th>product_name</th>\n",
       "      <th>category</th>\n",
       "      <th>discounted_price</th>\n",
       "      <th>actual_price</th>\n",
       "      <th>discount_percentage</th>\n",
       "      <th>rating</th>\n",
       "      <th>rating_count</th>\n",
       "      <th>about_product</th>\n",
       "      <th>user_id</th>\n",
       "      <th>user_name</th>\n",
       "      <th>review_id</th>\n",
       "      <th>review_title</th>\n",
       "      <th>review_content</th>\n",
       "      <th>img_link</th>\n",
       "      <th>product_link</th>\n",
       "    </tr>\n",
       "  </thead>\n",
       "  <tbody>\n",
       "    <tr>\n",
       "      <th>0</th>\n",
       "      <td>B07JW9H4J1</td>\n",
       "      <td>Wayona Nylon Braided USB to Lightning Fast Cha...</td>\n",
       "      <td>Computers&amp;Accessories|Accessories&amp;Peripherals|...</td>\n",
       "      <td>₹399</td>\n",
       "      <td>₹1,099</td>\n",
       "      <td>64%</td>\n",
       "      <td>4.2</td>\n",
       "      <td>24,269</td>\n",
       "      <td>High Compatibility : Compatible With iPhone 12...</td>\n",
       "      <td>AG3D6O4STAQKAY2UVGEUV46KN35Q,AHMY5CWJMMK5BJRBB...</td>\n",
       "      <td>Manav,Adarsh gupta,Sundeep,S.Sayeed Ahmed,jasp...</td>\n",
       "      <td>R3HXWT0LRP0NMF,R2AJM3LFTLZHFO,R6AQJGUP6P86,R1K...</td>\n",
       "      <td>Satisfied,Charging is really fast,Value for mo...</td>\n",
       "      <td>Looks durable Charging is fine tooNo complains...</td>\n",
       "      <td>https://m.media-amazon.com/images/W/WEBP_40237...</td>\n",
       "      <td>https://www.amazon.in/Wayona-Braided-WN3LG1-Sy...</td>\n",
       "    </tr>\n",
       "    <tr>\n",
       "      <th>1</th>\n",
       "      <td>B098NS6PVG</td>\n",
       "      <td>Ambrane Unbreakable 60W / 3A Fast Charging 1.5...</td>\n",
       "      <td>Computers&amp;Accessories|Accessories&amp;Peripherals|...</td>\n",
       "      <td>₹199</td>\n",
       "      <td>₹349</td>\n",
       "      <td>43%</td>\n",
       "      <td>4.0</td>\n",
       "      <td>43,994</td>\n",
       "      <td>Compatible with all Type C enabled devices, be...</td>\n",
       "      <td>AECPFYFQVRUWC3KGNLJIOREFP5LQ,AGYYVPDD7YG7FYNBX...</td>\n",
       "      <td>ArdKn,Nirbhay kumar,Sagar Viswanathan,Asp,Plac...</td>\n",
       "      <td>RGIQEG07R9HS2,R1SMWZQ86XIN8U,R2J3Y1WL29GWDE,RY...</td>\n",
       "      <td>A Good Braided Cable for Your Type C Device,Go...</td>\n",
       "      <td>I ordered this cable to connect my phone to An...</td>\n",
       "      <td>https://m.media-amazon.com/images/W/WEBP_40237...</td>\n",
       "      <td>https://www.amazon.in/Ambrane-Unbreakable-Char...</td>\n",
       "    </tr>\n",
       "    <tr>\n",
       "      <th>2</th>\n",
       "      <td>B096MSW6CT</td>\n",
       "      <td>Sounce Fast Phone Charging Cable &amp; Data Sync U...</td>\n",
       "      <td>Computers&amp;Accessories|Accessories&amp;Peripherals|...</td>\n",
       "      <td>₹199</td>\n",
       "      <td>₹1,899</td>\n",
       "      <td>90%</td>\n",
       "      <td>3.9</td>\n",
       "      <td>7,928</td>\n",
       "      <td>【 Fast Charger&amp; Data Sync】-With built-in safet...</td>\n",
       "      <td>AGU3BBQ2V2DDAMOAKGFAWDDQ6QHA,AESFLDV2PT363T2AQ...</td>\n",
       "      <td>Kunal,Himanshu,viswanath,sai niharka,saqib mal...</td>\n",
       "      <td>R3J3EQQ9TZI5ZJ,R3E7WBGK7ID0KV,RWU79XKQ6I1QF,R2...</td>\n",
       "      <td>Good speed for earlier versions,Good Product,W...</td>\n",
       "      <td>Not quite durable and sturdy,https://m.media-a...</td>\n",
       "      <td>https://m.media-amazon.com/images/W/WEBP_40237...</td>\n",
       "      <td>https://www.amazon.in/Sounce-iPhone-Charging-C...</td>\n",
       "    </tr>\n",
       "    <tr>\n",
       "      <th>3</th>\n",
       "      <td>B08HDJ86NZ</td>\n",
       "      <td>boAt Deuce USB 300 2 in 1 Type-C &amp; Micro USB S...</td>\n",
       "      <td>Computers&amp;Accessories|Accessories&amp;Peripherals|...</td>\n",
       "      <td>₹329</td>\n",
       "      <td>₹699</td>\n",
       "      <td>53%</td>\n",
       "      <td>4.2</td>\n",
       "      <td>94,363</td>\n",
       "      <td>The boAt Deuce USB 300 2 in 1 cable is compati...</td>\n",
       "      <td>AEWAZDZZJLQUYVOVGBEUKSLXHQ5A,AG5HTSFRRE6NL3M5S...</td>\n",
       "      <td>Omkar dhale,JD,HEMALATHA,Ajwadh a.,amar singh ...</td>\n",
       "      <td>R3EEUZKKK9J36I,R3HJVYCLYOY554,REDECAZ7AMPQC,R1...</td>\n",
       "      <td>Good product,Good one,Nice,Really nice product...</td>\n",
       "      <td>Good product,long wire,Charges good,Nice,I bou...</td>\n",
       "      <td>https://m.media-amazon.com/images/I/41V5FtEWPk...</td>\n",
       "      <td>https://www.amazon.in/Deuce-300-Resistant-Tang...</td>\n",
       "    </tr>\n",
       "    <tr>\n",
       "      <th>4</th>\n",
       "      <td>B08CF3B7N1</td>\n",
       "      <td>Portronics Konnect L 1.2M Fast Charging 3A 8 P...</td>\n",
       "      <td>Computers&amp;Accessories|Accessories&amp;Peripherals|...</td>\n",
       "      <td>₹154</td>\n",
       "      <td>₹399</td>\n",
       "      <td>61%</td>\n",
       "      <td>4.2</td>\n",
       "      <td>16,905</td>\n",
       "      <td>[CHARGE &amp; SYNC FUNCTION]- This cable comes wit...</td>\n",
       "      <td>AE3Q6KSUK5P75D5HFYHCRAOLODSA,AFUGIFH5ZAFXRDSZH...</td>\n",
       "      <td>rahuls6099,Swasat Borah,Ajay Wadke,Pranali,RVK...</td>\n",
       "      <td>R1BP4L2HH9TFUP,R16PVJEXKV6QZS,R2UPDB81N66T4P,R...</td>\n",
       "      <td>As good as original,Decent,Good one for second...</td>\n",
       "      <td>Bought this instead of original apple, does th...</td>\n",
       "      <td>https://m.media-amazon.com/images/W/WEBP_40237...</td>\n",
       "      <td>https://www.amazon.in/Portronics-Konnect-POR-1...</td>\n",
       "    </tr>\n",
       "  </tbody>\n",
       "</table>\n",
       "</div>"
      ],
      "text/plain": [
       "   product_id                                       product_name  \\\n",
       "0  B07JW9H4J1  Wayona Nylon Braided USB to Lightning Fast Cha...   \n",
       "1  B098NS6PVG  Ambrane Unbreakable 60W / 3A Fast Charging 1.5...   \n",
       "2  B096MSW6CT  Sounce Fast Phone Charging Cable & Data Sync U...   \n",
       "3  B08HDJ86NZ  boAt Deuce USB 300 2 in 1 Type-C & Micro USB S...   \n",
       "4  B08CF3B7N1  Portronics Konnect L 1.2M Fast Charging 3A 8 P...   \n",
       "\n",
       "                                            category discounted_price  \\\n",
       "0  Computers&Accessories|Accessories&Peripherals|...             ₹399   \n",
       "1  Computers&Accessories|Accessories&Peripherals|...             ₹199   \n",
       "2  Computers&Accessories|Accessories&Peripherals|...             ₹199   \n",
       "3  Computers&Accessories|Accessories&Peripherals|...             ₹329   \n",
       "4  Computers&Accessories|Accessories&Peripherals|...             ₹154   \n",
       "\n",
       "  actual_price discount_percentage rating rating_count  \\\n",
       "0       ₹1,099                 64%    4.2       24,269   \n",
       "1         ₹349                 43%    4.0       43,994   \n",
       "2       ₹1,899                 90%    3.9        7,928   \n",
       "3         ₹699                 53%    4.2       94,363   \n",
       "4         ₹399                 61%    4.2       16,905   \n",
       "\n",
       "                                       about_product  \\\n",
       "0  High Compatibility : Compatible With iPhone 12...   \n",
       "1  Compatible with all Type C enabled devices, be...   \n",
       "2  【 Fast Charger& Data Sync】-With built-in safet...   \n",
       "3  The boAt Deuce USB 300 2 in 1 cable is compati...   \n",
       "4  [CHARGE & SYNC FUNCTION]- This cable comes wit...   \n",
       "\n",
       "                                             user_id  \\\n",
       "0  AG3D6O4STAQKAY2UVGEUV46KN35Q,AHMY5CWJMMK5BJRBB...   \n",
       "1  AECPFYFQVRUWC3KGNLJIOREFP5LQ,AGYYVPDD7YG7FYNBX...   \n",
       "2  AGU3BBQ2V2DDAMOAKGFAWDDQ6QHA,AESFLDV2PT363T2AQ...   \n",
       "3  AEWAZDZZJLQUYVOVGBEUKSLXHQ5A,AG5HTSFRRE6NL3M5S...   \n",
       "4  AE3Q6KSUK5P75D5HFYHCRAOLODSA,AFUGIFH5ZAFXRDSZH...   \n",
       "\n",
       "                                           user_name  \\\n",
       "0  Manav,Adarsh gupta,Sundeep,S.Sayeed Ahmed,jasp...   \n",
       "1  ArdKn,Nirbhay kumar,Sagar Viswanathan,Asp,Plac...   \n",
       "2  Kunal,Himanshu,viswanath,sai niharka,saqib mal...   \n",
       "3  Omkar dhale,JD,HEMALATHA,Ajwadh a.,amar singh ...   \n",
       "4  rahuls6099,Swasat Borah,Ajay Wadke,Pranali,RVK...   \n",
       "\n",
       "                                           review_id  \\\n",
       "0  R3HXWT0LRP0NMF,R2AJM3LFTLZHFO,R6AQJGUP6P86,R1K...   \n",
       "1  RGIQEG07R9HS2,R1SMWZQ86XIN8U,R2J3Y1WL29GWDE,RY...   \n",
       "2  R3J3EQQ9TZI5ZJ,R3E7WBGK7ID0KV,RWU79XKQ6I1QF,R2...   \n",
       "3  R3EEUZKKK9J36I,R3HJVYCLYOY554,REDECAZ7AMPQC,R1...   \n",
       "4  R1BP4L2HH9TFUP,R16PVJEXKV6QZS,R2UPDB81N66T4P,R...   \n",
       "\n",
       "                                        review_title  \\\n",
       "0  Satisfied,Charging is really fast,Value for mo...   \n",
       "1  A Good Braided Cable for Your Type C Device,Go...   \n",
       "2  Good speed for earlier versions,Good Product,W...   \n",
       "3  Good product,Good one,Nice,Really nice product...   \n",
       "4  As good as original,Decent,Good one for second...   \n",
       "\n",
       "                                      review_content  \\\n",
       "0  Looks durable Charging is fine tooNo complains...   \n",
       "1  I ordered this cable to connect my phone to An...   \n",
       "2  Not quite durable and sturdy,https://m.media-a...   \n",
       "3  Good product,long wire,Charges good,Nice,I bou...   \n",
       "4  Bought this instead of original apple, does th...   \n",
       "\n",
       "                                            img_link  \\\n",
       "0  https://m.media-amazon.com/images/W/WEBP_40237...   \n",
       "1  https://m.media-amazon.com/images/W/WEBP_40237...   \n",
       "2  https://m.media-amazon.com/images/W/WEBP_40237...   \n",
       "3  https://m.media-amazon.com/images/I/41V5FtEWPk...   \n",
       "4  https://m.media-amazon.com/images/W/WEBP_40237...   \n",
       "\n",
       "                                        product_link  \n",
       "0  https://www.amazon.in/Wayona-Braided-WN3LG1-Sy...  \n",
       "1  https://www.amazon.in/Ambrane-Unbreakable-Char...  \n",
       "2  https://www.amazon.in/Sounce-iPhone-Charging-C...  \n",
       "3  https://www.amazon.in/Deuce-300-Resistant-Tang...  \n",
       "4  https://www.amazon.in/Portronics-Konnect-POR-1...  "
      ]
     },
     "execution_count": 4,
     "metadata": {},
     "output_type": "execute_result"
    }
   ],
   "source": [
    "data.head()"
   ]
  },
  {
   "cell_type": "code",
   "execution_count": 5,
   "id": "ba9d26b4-42d0-4d92-aea4-897111227044",
   "metadata": {},
   "outputs": [
    {
     "data": {
      "text/plain": [
       "\"High Compatibility : Compatible With iPhone 12, 11, X/XsMax/Xr ,iPhone 8/8 Plus,iPhone 7/7 Plus,iPhone 6s/6s Plus,iPhone 6/6 Plus,iPhone 5/5s/5c/se,iPad Pro,iPad Air 1/2,iPad mini 1/2/3,iPod nano7,iPod touch and more apple devices.|Fast Charge&Data Sync : It can charge and sync simultaneously at a rapid speed, Compatible with any charging adaptor, multi-port charging station or power bank.|Durability : Durable nylon braided design with premium aluminum housing and toughened nylon fiber wound tightly around the cord lending it superior durability and adding a bit to its flexibility.|High Security Level : It is designed to fully protect your device from damaging excessive current.Copper core thick+Multilayer shielding, Anti-interference, Protective circuit equipment.|WARRANTY: 12 months warranty and friendly customer services, ensures the long-time enjoyment of your purchase. If you meet any question or problem, please don't hesitate to contact us.\""
      ]
     },
     "execution_count": 5,
     "metadata": {},
     "output_type": "execute_result"
    }
   ],
   "source": [
    "data['about_product'][0]"
   ]
  },
  {
   "cell_type": "code",
   "execution_count": 6,
   "id": "1306b58e-9545-414a-8b1f-52d9ec06bdce",
   "metadata": {},
   "outputs": [
    {
     "data": {
      "text/plain": [
       "'Satisfied,Charging is really fast,Value for money,Product review,Good quality,Good product,Good Product,As of now seems good'"
      ]
     },
     "execution_count": 6,
     "metadata": {},
     "output_type": "execute_result"
    }
   ],
   "source": [
    "data['review_title'][0]"
   ]
  },
  {
   "cell_type": "code",
   "execution_count": 7,
   "id": "6a594189-a716-4f17-ad43-0cc2a3a1c5d7",
   "metadata": {},
   "outputs": [
    {
     "data": {
      "text/plain": [
       "'Looks durable Charging is fine tooNo complains,Charging is really fast, good product.,Till now satisfied with the quality.,This is a good product . The charging speed is slower than the original iPhone cable,Good quality, would recommend,https://m.media-amazon.com/images/W/WEBP_402378-T1/images/I/81---F1ZgHL._SY88.jpg,Product had worked well till date and was having no issue.Cable is also sturdy enough...Have asked for replacement and company is doing the same...,Value for money'"
      ]
     },
     "execution_count": 7,
     "metadata": {},
     "output_type": "execute_result"
    }
   ],
   "source": [
    "data['review_content'][0]"
   ]
  },
  {
   "cell_type": "code",
   "execution_count": 8,
   "id": "41b65171-64b7-497f-a990-6c168ceaacc6",
   "metadata": {},
   "outputs": [
    {
     "data": {
      "text/plain": [
       "'R3HXWT0LRP0NMF,R2AJM3LFTLZHFO,R6AQJGUP6P86,R1KD19VHEDV0OR,R3C02RMYQMK6FC,R39GQRVBUZBWGY,R2K9EDOE15QIRJ,R3OI7YT648TL8I'"
      ]
     },
     "execution_count": 8,
     "metadata": {},
     "output_type": "execute_result"
    }
   ],
   "source": [
    "data['review_id'][0]"
   ]
  },
  {
   "cell_type": "code",
   "execution_count": 9,
   "id": "641f30d5-3509-43eb-b4a9-9eac822327d4",
   "metadata": {},
   "outputs": [
    {
     "data": {
      "text/plain": [
       "Index(['product_id', 'product_name', 'category', 'discounted_price',\n",
       "       'actual_price', 'discount_percentage', 'rating', 'rating_count',\n",
       "       'about_product', 'user_id', 'user_name', 'review_id', 'review_title',\n",
       "       'review_content', 'img_link', 'product_link'],\n",
       "      dtype='object')"
      ]
     },
     "execution_count": 9,
     "metadata": {},
     "output_type": "execute_result"
    }
   ],
   "source": [
    "data.columns"
   ]
  },
  {
   "cell_type": "code",
   "execution_count": 10,
   "id": "5926cfd1-394c-4ec8-9991-00fcae1d771d",
   "metadata": {},
   "outputs": [],
   "source": [
    "data = data[['product_name' , 'about_product']]"
   ]
  },
  {
   "cell_type": "code",
   "execution_count": 11,
   "id": "7f054a38-bb9f-43d1-91ab-3ed51c5dfd19",
   "metadata": {},
   "outputs": [
    {
     "data": {
      "text/html": [
       "<div>\n",
       "<style scoped>\n",
       "    .dataframe tbody tr th:only-of-type {\n",
       "        vertical-align: middle;\n",
       "    }\n",
       "\n",
       "    .dataframe tbody tr th {\n",
       "        vertical-align: top;\n",
       "    }\n",
       "\n",
       "    .dataframe thead th {\n",
       "        text-align: right;\n",
       "    }\n",
       "</style>\n",
       "<table border=\"1\" class=\"dataframe\">\n",
       "  <thead>\n",
       "    <tr style=\"text-align: right;\">\n",
       "      <th></th>\n",
       "      <th>product_name</th>\n",
       "      <th>about_product</th>\n",
       "    </tr>\n",
       "  </thead>\n",
       "  <tbody>\n",
       "    <tr>\n",
       "      <th>0</th>\n",
       "      <td>Wayona Nylon Braided USB to Lightning Fast Cha...</td>\n",
       "      <td>High Compatibility : Compatible With iPhone 12...</td>\n",
       "    </tr>\n",
       "    <tr>\n",
       "      <th>1</th>\n",
       "      <td>Ambrane Unbreakable 60W / 3A Fast Charging 1.5...</td>\n",
       "      <td>Compatible with all Type C enabled devices, be...</td>\n",
       "    </tr>\n",
       "    <tr>\n",
       "      <th>2</th>\n",
       "      <td>Sounce Fast Phone Charging Cable &amp; Data Sync U...</td>\n",
       "      <td>【 Fast Charger&amp; Data Sync】-With built-in safet...</td>\n",
       "    </tr>\n",
       "    <tr>\n",
       "      <th>3</th>\n",
       "      <td>boAt Deuce USB 300 2 in 1 Type-C &amp; Micro USB S...</td>\n",
       "      <td>The boAt Deuce USB 300 2 in 1 cable is compati...</td>\n",
       "    </tr>\n",
       "    <tr>\n",
       "      <th>4</th>\n",
       "      <td>Portronics Konnect L 1.2M Fast Charging 3A 8 P...</td>\n",
       "      <td>[CHARGE &amp; SYNC FUNCTION]- This cable comes wit...</td>\n",
       "    </tr>\n",
       "  </tbody>\n",
       "</table>\n",
       "</div>"
      ],
      "text/plain": [
       "                                        product_name  \\\n",
       "0  Wayona Nylon Braided USB to Lightning Fast Cha...   \n",
       "1  Ambrane Unbreakable 60W / 3A Fast Charging 1.5...   \n",
       "2  Sounce Fast Phone Charging Cable & Data Sync U...   \n",
       "3  boAt Deuce USB 300 2 in 1 Type-C & Micro USB S...   \n",
       "4  Portronics Konnect L 1.2M Fast Charging 3A 8 P...   \n",
       "\n",
       "                                       about_product  \n",
       "0  High Compatibility : Compatible With iPhone 12...  \n",
       "1  Compatible with all Type C enabled devices, be...  \n",
       "2  【 Fast Charger& Data Sync】-With built-in safet...  \n",
       "3  The boAt Deuce USB 300 2 in 1 cable is compati...  \n",
       "4  [CHARGE & SYNC FUNCTION]- This cable comes wit...  "
      ]
     },
     "execution_count": 11,
     "metadata": {},
     "output_type": "execute_result"
    }
   ],
   "source": [
    "data.head()"
   ]
  },
  {
   "cell_type": "markdown",
   "id": "b18c2e06-8323-40c7-b9b9-d5af8daf89a1",
   "metadata": {},
   "source": [
    "## NOW WE MAKE THIS DATA INTO DOCUMENTS"
   ]
  },
  {
   "cell_type": "code",
   "execution_count": 12,
   "id": "c6b6b463-1da6-45ff-bef5-2919d692aebd",
   "metadata": {},
   "outputs": [],
   "source": [
    "product_list = []\n",
    "for index , rows in data.iterrows():\n",
    "    objects = {\n",
    "        \"product_name\" : rows['product_name'],\n",
    "        \"about_product\":rows['about_product']\n",
    "    }\n",
    "    product_list.append(objects)"
   ]
  },
  {
   "cell_type": "code",
   "execution_count": 13,
   "id": "eecf77ee-1448-48a9-bf03-37152d01ece7",
   "metadata": {},
   "outputs": [
    {
     "data": {
      "text/plain": [
       "{'product_name': 'Ambrane Unbreakable 60W / 3A Fast Charging 1.5m Braided Type C Cable for Smartphones, Tablets, Laptops & other Type C devices, PD Technology, 480Mbps Data Sync, Quick Charge 3.0 (RCT15A, Black)',\n",
       " 'about_product': 'Compatible with all Type C enabled devices, be it an android smartphone (Mi, Samsung, Oppo, Vivo, Realme, OnePlus, etc), tablet, laptop (Macbook, Chromebook, etc)|Supports Quick Charging (2.0/3.0)|Unbreakable – Made of special braided outer with rugged interior bindings, it is ultra-durable cable that won’t be affected by daily rough usage|Ideal Length – It has ideal length of 1.5 meters which is neither too short like your typical 1meter cable or too long like a 2meters cable|Supports maximum 3A fast charging and 480 Mbps data transfer speed|6 months manufacturer warranty from the date of purchase'}"
      ]
     },
     "execution_count": 13,
     "metadata": {},
     "output_type": "execute_result"
    }
   ],
   "source": [
    "product_list[1]"
   ]
  },
  {
   "cell_type": "code",
   "execution_count": 14,
   "id": "766ec8bd-cc06-4c29-909e-40ddd2997c63",
   "metadata": {},
   "outputs": [],
   "source": [
    "#importing module"
   ]
  },
  {
   "cell_type": "code",
   "execution_count": 15,
   "id": "20c7b7da-a9d5-4d0d-be3e-2720997c604f",
   "metadata": {},
   "outputs": [],
   "source": [
    "from langchain_core.documents import Document"
   ]
  },
  {
   "cell_type": "code",
   "execution_count": 16,
   "id": "f93d3c67-96a4-4230-9940-a3e9e56b3777",
   "metadata": {},
   "outputs": [],
   "source": [
    "docs = []\n",
    "for object in product_list:\n",
    "    metadata = {'product_list' : object['product_name']}\n",
    "    page_content = object['about_product']\n",
    "    doc = Document(page_content = page_content , metadata=metadata)\n",
    "    docs.append(doc)\n",
    "    "
   ]
  },
  {
   "cell_type": "code",
   "execution_count": 17,
   "id": "05494abb-4518-439d-aed0-3cba79768524",
   "metadata": {},
   "outputs": [
    {
     "data": {
      "text/plain": [
       "Document(metadata={'product_list': 'Wayona Nylon Braided USB to Lightning Fast Charging and Data Sync Cable Compatible for iPhone 13, 12,11, X, 8, 7, 6, 5, iPad Air, Pro, Mini (3 FT Pack of 1, Grey)'}, page_content=\"High Compatibility : Compatible With iPhone 12, 11, X/XsMax/Xr ,iPhone 8/8 Plus,iPhone 7/7 Plus,iPhone 6s/6s Plus,iPhone 6/6 Plus,iPhone 5/5s/5c/se,iPad Pro,iPad Air 1/2,iPad mini 1/2/3,iPod nano7,iPod touch and more apple devices.|Fast Charge&Data Sync : It can charge and sync simultaneously at a rapid speed, Compatible with any charging adaptor, multi-port charging station or power bank.|Durability : Durable nylon braided design with premium aluminum housing and toughened nylon fiber wound tightly around the cord lending it superior durability and adding a bit to its flexibility.|High Security Level : It is designed to fully protect your device from damaging excessive current.Copper core thick+Multilayer shielding, Anti-interference, Protective circuit equipment.|WARRANTY: 12 months warranty and friendly customer services, ensures the long-time enjoyment of your purchase. If you meet any question or problem, please don't hesitate to contact us.\")"
      ]
     },
     "execution_count": 17,
     "metadata": {},
     "output_type": "execute_result"
    }
   ],
   "source": [
    "docs[0]"
   ]
  },
  {
   "cell_type": "markdown",
   "id": "13385e87-a76e-4161-96b9-42595b94ce8d",
   "metadata": {},
   "source": [
    "## using apis and tokens"
   ]
  },
  {
   "cell_type": "code",
   "execution_count": 64,
   "id": "11e1bc32-e2cf-4f39-a78c-0974977b6e34",
   "metadata": {},
   "outputs": [],
   "source": [
    "from dotenv import load_dotenv\n",
    "import os\n",
    "load_dotenv()\n",
    "astra_db_endpoint = os.getenv(\"astra_db_endpoint\")\n",
    "astra_db_token = os.getenv(\"astra_db_token\")\n",
    "astra_db_keyspace = os.getenv(\"astra_db_keyspace\")\n",
    "groq = os.getenv(\"groq\")\n",
    "hf_token = os.getenv(\"hf_token\")"
   ]
  },
  {
   "cell_type": "code",
   "execution_count": 19,
   "id": "9c6c875d-143e-48fc-9a5a-f8d29a16749d",
   "metadata": {},
   "outputs": [],
   "source": [
    "from langchain_community.embeddings import HuggingFaceBgeEmbeddings"
   ]
  },
  {
   "cell_type": "code",
   "execution_count": 20,
   "id": "33a8d065-6af7-4372-adc1-9f4c1f5cd23e",
   "metadata": {
    "scrolled": true
   },
   "outputs": [
    {
     "name": "stderr",
     "output_type": "stream",
     "text": [
      "C:\\Users\\ankus\\AppData\\Local\\Temp\\ipykernel_19072\\2622036482.py:1: LangChainDeprecationWarning: The class `HuggingFaceBgeEmbeddings` was deprecated in LangChain 0.2.2 and will be removed in 1.0. An updated version of the class exists in the :class:`~langchain-huggingface package and should be used instead. To use it run `pip install -U :class:`~langchain-huggingface` and import as `from :class:`~langchain_huggingface import HuggingFaceEmbeddings``.\n",
      "  embedding = HuggingFaceBgeEmbeddings(model_name=\"BAAI/bge-base-en-v1.5\",\n"
     ]
    }
   ],
   "source": [
    "embedding = HuggingFaceBgeEmbeddings(model_name=\"BAAI/bge-base-en-v1.5\",\n",
    "                                    model_kwargs={\"token\" : hf_token})"
   ]
  },
  {
   "cell_type": "code",
   "execution_count": 25,
   "id": "fecaae70-4698-4c21-9939-084344dcf95d",
   "metadata": {},
   "outputs": [],
   "source": [
    "from langchain_astradb import AstraDBVectorStore"
   ]
  },
  {
   "cell_type": "code",
   "execution_count": 26,
   "id": "d84d9084-f912-4e5b-86fa-2b3abc8d3bd0",
   "metadata": {},
   "outputs": [],
   "source": [
    "vstore = AstraDBVectorStore(\n",
    "    embedding = embedding,\n",
    "    collection_name='amazone',\n",
    "    api_endpoint=astra_db_endpoint,\n",
    "    token=astra_db_token,\n",
    "    namespace= astra_db_keyspace)"
   ]
  },
  {
   "cell_type": "code",
   "execution_count": 27,
   "id": "40961360-c3de-41bd-80a4-bef2a34fe9da",
   "metadata": {},
   "outputs": [],
   "source": [
    "insert = vstore.add_documents(docs)"
   ]
  },
  {
   "cell_type": "code",
   "execution_count": 36,
   "id": "7c321478-2bd4-45ef-bace-6afc4da0f359",
   "metadata": {
    "scrolled": true
   },
   "outputs": [
    {
     "name": "stdout",
     "output_type": "stream",
     "text": [
      "Inserted: ['427bbdb30feb4d25a43d01c96f8dfcf7', '983e6745a91148dfbb5f9009e0e86573', 'b79f88301f07445581ca4383e26cb7a0', '6cb3cfd45fe443a7acb061e7ab7c475e', 'e54fe05dbaf44df89aebdb571beb48d5', 'ce958cb0559e4ffbb79b2bad3ceba718', '29b135cfcf9548dca0fcd3892372d949', '88c56a5f6d3b4098aa5738dcc67553bf', '5eb21db156b94600aadcda7c6e6fd0db', '800f59cdfc8b42a2aef336118b8c570f', '73ce2ad9f5ac4516b6c917c8f6170f0b', 'ecb8bf683a484421a982d085753b1755', 'd0486d6f82c14e439527c0745d1ba126', 'a348d3a3412541e7a49edc928bf06737', '9487a103de7d4e4592116e958915b302', '1a52a02c462b4798aecb46844f603181', '5e3574fc0409483da6d7fc1f02f60b2a', 'de79ed1f66254c83b1c21b40275a84b2', '94e9c8d8462d40f8a239f8adbce26550', '2fa82b98092044a89881b49a174c261b', 'ff99e63c0e074e6a9659389fb43f4844', '7458065092f448928892ae7c38edd827', '15d0e411ba21499985a7410b5ad47bec', '8cd030edbe244025bd66de23cd762013', '53001be33ad44185970712e47aa59918', '96f19456a53a4a66823da97e46d54064', 'b726bfa42c894cbbb4c38303de53b7b9', '54076eecd59d47ecaea2c6519472c7e0', '795d5a0d03c6488f9f31b234442c72cf', '99fe016ad62844808d22ccd8cdf1aaa7', 'b43885e4ac784e95b217efa18f1c5330', '9d83f7ce91134585aa433c0e08cf792c', '0dd90453f0434877862db4da652d02ea', '8711ae74597c4815b897a57f6568837d', '28e70a66bb504ed3bda1b2b293ce0f56', '81929e3948994048a8fc7bd94229d69b', 'cd738a8d41f14bc3a5cdb6b15b88db5d', '7d097635f80248f791f674f77a53b5b6', 'b26b265d7e9b429ebe12ea3df97e9a93', 'dcebb0c4475848058de59a2f8ffabfd4', 'b135d20b85254eb291f59a46c4f112a4', '10aa4d63e51646009dda7fb8b706ba65', '83e93031c6ab4bf98404acd1035319fc', '77d71b7eb433431198b1271d6cbfc0ca', '3256baeed4b1458197808c5e0f9bd12f', '2935d986ae4140a9a485d64ccda9fa39', '747b099974bb483c8aff6f6fd552757b', '8972b9dd65b64c0ea59a6963b3d7596e', '5492e1ad8dc3486fb4c2f98696f19712', '2d988d1e9203442899e889e55eb4e78f', 'e8afea3b99ac46e6992e47c055f2d8f9', '1d1413c849764b038e42523dbc9693b1', '61af3781f0194304a66c7c0c524519db', '9a7a7ef251dc4402b2ba28ea7584673f', '439bb0b7a48141aeace66fd4a19219e8', '284b0c68a6964280bf0e47a8488793de', '23e7c48652df406bb9fe717948b5078f', 'd85fb11ad1a343a1a72747d90d7add09', 'e39d50999249481581fa93bbd3e26f1f', '015877802fc148b4b6020c5203b3c87d', '19aea07abf0b4fcfb126095b59c48b63', '1d88c93f2653426aa650801486523cfc', '04e5c5b5504c4fdab36ae47cbc40d85a', 'f893bdc7b0234689a697f42cd65bef39', 'd1d000a17e274f85aea03446dcfb7ca6', '26194ba6cb304963a4633d6898c997fa', '67c627b5b829488fa73f5ed93c303bd2', '09cff13d2b164a1997e0668cf150153d', 'bd679da9ab184c02af6dc258f66f5fe3', '3e30f5b6c92b4102ac9f6585f5484c20', '72a76876f0794bfc8f6d1627c73957ad', '83a65fdec45347dea306a66dc3bdd824', '326b1cf8a694484eb6bf3306d7287c5a', '8472413c59a047cd93b55d4006ea5094', 'bda218db1bcf43c19f2719bf9d94f05d', 'b1ce19d636ab4eaebfab40cb39743d2b', '5308a58417954856bd5e5b5a064f7988', 'fe9a49cd028a4dccaed92e243973ee84', '5ad04367a4124ceb87a423af39670096', '4f50555df2c04f62bdcd63a7eabd3681', '8a5365f675d645009cfc77c8849ec373', '4c71f623ecb94e7dbc29fde680b835f1', 'd495da6cc75a49b6974ee3a864ab36b4', 'ab7bd6640de948b19f36857f0f1e1b40', 'e583b3baf28c41b5bed49404e96e71a1', '26906b30aa274148aaea4077aef0b425', 'f02b195585f646ccb428367904e6eb66', '550c1501b88447a5aefa144a0cf093c0', 'e50b2e3799c74eb9862252a27f94d48e', 'ef1654002f264c8e8c308aa591e8b1f2', '57231cd10ee440119c9934d1eff143ad', '4e73806cdb0a44b098764fb93dc96285', '92f8d34d93cd426187d2c12d5bc3409d', '81816f677b364fa5a0b3e402944cab29', '1064123c22114924b615d9f2c99db740', '6d9201806ff341719133a1e5ada2cf96', '5d6524b910ee41fab4c3eb0efd71af25', '93d237991d134f0a8be86bcf0f6daf08', 'a652c5efbdde409fa1288c328ba85a0b', 'ea3b7e6e9d7c40da840b90006b548b27', '289972689f3c41b8afef3e3d757f6728', 'bd630d91a6024ac9baacd339c4703a0b', '8e709dd70b704fd99032b9813f28f056', '9381621fc5b44acab5e3869f60896dec', 'a02c61af3a9a44f096f660e639c55e94', '4b58ad2b9ea944a299636a47438cdfcb', 'e03852be3ab64aa19b91c11bfa8eac00', 'a4dc4c0445f742c5a5f773ee029ce02c', 'a9ce9d006fb84cf09544448c76136675', '1f5d5be7e7444725bffd43977ef2efdb', '17d2875628174371902780f42dd6f1fe', '5632b47e07484b41b75cd2ac7acf31e6', 'a729cc1c2445400ab465d4498e39382d', 'f79f069a2be84d66b48ffbe3d0e3c9f0', 'd2d72303481542e59b94d7989c66eae7', '31e4c908706148b78a422e7d3e9d252c', 'fadf45725d094b3fa61b75bb8a481919', '69c3ee685dc64d528917f4a16ba9a8e0', '2f042e4ce99c4b94ace91f77f6b60458', 'e8ba1367f4dc4b4f8d4d4a34523085f9', 'd69873bce6724fa18938fc3670c7df57', 'dfb6993f5d124564b36eef879ee7caf1', '35209230a56c40b18f7923e16ed43fc3', 'ff7436a1d3ca4b0594ce7a8bb751e938', '3c22c73d4bea4d23bdac15d6dd1a8560', '0b6b10e2222d47da81f2c0581b483f74', 'd0b8cef891624d17b3680d628ca37a1b', '96d28e2af9df4bfe848b572f56c8bb9d', '82fefdfb75e045878d40dab89d7dd196', 'fdafb5af74124b1ca705fa7a5155b3d8', '27a55e0a1b444314a4b416ee8abf4de8', '3d55b5284cdf47cab3812662ee7b5185', 'd100bcd1d69642fbb632c73f01037b6f', '54210582631249be8d660beae68ec8e2', '03157dd9b8f7440cbb73eec412cebb97', '78b4565b38ea464db6b84417995b6196', 'fe7694a0adaf4541b3417696749173ba', 'a2a169346de1488bb2cabc4865180c91', '9aa509a004014ccdafbcacf5d87405af', '8c150bfa79c442baa276b02de1cc890c', 'dd331c3a1eee4a20b6b158edc0dcd6ee', '21b098e56c844235ba63e3de60aaadd1', '5be779e9407048ca92f8c3de4a61b943', '703fd411351f4ab69d036f7b5957b3dc', '5f189f0f4d7a42b196e2d538e7b76a1f', '78be7a3dec174ecfa969bf9400d1c507', 'c2fdeb0eb73046359dfbbd4973a61b73', 'dddb23b9092c497cba6f89ef96bbff20', 'e028e9857d444be0930e4b77dd924a50', '233853a434d54b4db1f16ee3f9238c41', '26d224327086453bb5d2eeb781d10c4c', '100772b71c8e4901bc0e87ac857cf533', '50c220c0ef0b47dbbaa6969f37350177', '3e7363b7bd43404a9ca1eb6f34524dd6', '2fdcb389fd5a4026b5c496673d85bed6', 'faad59bd8970441d99b68162bcd120ca', '571d24824e4b44b3a739a7bac3a2c2fe', '7d8775d3cf954571ad82937be926f799', '215453f5bd454e578ca85cbd50666628', 'cbb339f1b3444b5180e5f9a79802cde2', '7746b793ab2843af9536c382f9a051f9', '9557782889f34eca877fa6ac69626512', '137dbc50434e44e9bfd1c947e662e03e', '7359e550366b460296c65562e6c7b308', '7d8cb812679e4e9bb004c40813d920e7', 'b3433d344a88417794d90ea338b7c78d', '5b7772373c514b96afaabe74f3eaeb99', 'c5f8aaa192e84426850e3451f4206a79', 'cfbda809e2d94d98a938e5f5ceb0138a', 'b7b22398c6414cf0a4d18913ee92c577', 'c50ba503a0454f809770f6cdb99e14e4', 'a8aa0702f1b047efbf199846bde89e5d', 'ca00d668aa2b43169ea976e1398249a3', '82e2a18538a64f32a7aa28e343dc7fa7', '856454a5e1dc4d84aa7ad66f3406888b', '9a9c6d55566c497c99c15f158a443423', '056f276e386c4f3bb3d1bd1645d68818', 'a7ce5b69b32d4b3aa73b8a0f6d43e5be', 'fa585c6261cd475f951844b5132113f5', 'b35efda213bf4fec876745af92e9cc1d', '8e441a3cb6bf4615afabe66b447b4bfe', '79fab26c94834c91bd635242c50f0e24', '6d2c36a3dfc542a6aacba79477ef7880', 'be9943f23f334ddba215a2f9267b522d', '73bcfe78825e464ab0c8432c2b5c1e50', '66074e081d0849978bf53b74f9a5861b', '1f177165a5394c979725552977481a75', 'f6ed5bd4c10d478489da5e5cccb7144e', 'ea3061dbb43644aab146ff357a1f1384', 'dc0336d953e64f3fba73151acd6f47f6', '67c1a97722184ca79dcd1e69fb39d486', '13b4778255224cb88ea4ab2f47fe6585', 'bd8e6f713a9e4140b9b2095488b87c38', 'b06bd847f2684eeda0f0dd113d880ce2', '91eca8b104fd48bbbb499c6422650417', '0851309e595d44a8b2b98132acd9d443', 'b486c44db5d447d1b9a23bb2082c3484', '05ad4b14dd1a40618b8b8cdb53d0f8c8', '3799763c8c18464882ac28088f0fdcbf', '15f050757e5a48ed83db39ac58860bdc', '4b963eb4edef4f4aa0460de3c31b7945', 'bb4b3f6bc00b4f989c2724d7dba7686e', 'a41431e5f8ae4624b0b65184f607ad2b', '12072d9b221a4e89a52546ff901dafc8', 'd3a81b9a79f24beba8af89ba0a383689', '4c8b15c5e5814176ba6e391960f9a412', '288ac3d27b4d4ebb955a160d40c08cb3', '3ae9f18914f148ad91f9a45b2950d2cc', '21964fadf9334c1d9307d1f910911313', '561178c4c0a3436b8f3d04ef7aeb9189', 'afc608f309934919a3d186b2857f7cd3', 'cb2a2a1a703243408bc8cb5911f71cd9', 'a52972debf1a4de4a4b8c292ec0af5ff', '559d61439b03465a8d12b90834c899df', '47cb81ddbe7d4d389694ed4018d74456', '2d22a2792fa840008f8ce528115afe8d', 'b87db678d01e4fe48b6ab0cffb15c479', '990f39c5a8b44a06b717824a5ad2bf58', '7108a0f61b0e4a04ab50b5213762e8de', '078259f41bc8447084e5d2fed990d081', '05b9a9903ff04cee881deef74d9d1bc9', '9b8d0e446ab44de29269284c0f09bdde', '79929ed0d2c14462ac72fd684753c1da', '90290e35abbe4169b74c3367a1964bcc', '11c3bfd74e724da3a99754986316eedf', '9d5eddebeee245de9911272828f0e0f7', '09feb93b26b0476a9294dbfa6f878c15', '519d2104dcd84bc99b55235408cea297', 'c9ab0c2d6551474d88e0f89ddd634481', '54960eb28e814561a41a1f09f1e36ab3', '324a7d23ed6f42a3a74a52b89a5c12fd', '798a27acc7a6491bae0d47ac95e7bb77', '49a8f347d9914092ab40ab964de9c14b', '805a8131037945349a9e4d27b44cc726', '690d118cac1144cf8f6efe4852bafb61', '5107625f3fe946e4bde67795cb12e1e5', '5f137c373f8a4da39b8caccff897df9c', '259692d1181141fa86d4a457d88460b8', 'ee190da2317a4287a4426e298d833864', 'f8ea64e9e50241648f7e6540206e9fbc', '8084b7c72c244bdaaecbb85c52846a6b', 'eab3818b386c4e25bf1bf5dc6feb0607', 'ebbab6f9ee1c4cfbb192860008846746', '0e2471475ddf4f0faa472a7d33e7bd8c', '0709aa078beb4646a1713a9a1758e55d', '3191eaf9e94d40e59e195d083a00236c', 'c32d3d59f887400390473aeef5d3bbe0', '0013ade722cd49f2bc0d758cc66c53aa', '4c2d9671be71469f8b18a39d737b925c', 'd7b4dca57bbb45a1aac1a534bba03c21', 'd36010def8ec4f06a3b5cd534ef73105', '59fd72bde5ca420b9b2bcf231d19672b', '2119e762401f4c9fa9b5b839af18c79c', '894875b662ca40989e784949763e6061', '54fa7088eee141ad88ffa9bb0988fe36', '1a8dfdf14b3d448282e932384b4827cc', 'b915789eac324ec4b5782faf03c5ec49', '5464e3bbf4ca473a9e87fe8d2f863449', '16e91f8571b04951a8f5fe9e083a04f0', '0399bd34182b4b848e5b6d8ce29b610e', '5441efe4521049029272b8b8eb363496', 'a97559a075a54fd696d2ce20eca18ebd', '0e68d30d04ed4f16ba9f6cb64f8aae8c', 'd1f0731da4f64e5798e437574105ebc1', '44ffb5120f624516a8a45c5d606a8186', 'd6b857e351bc4d1290857cac28facf87', '2a58d638a43542919ff7d8a64c905e06', '07c2b299ebfa436990ae042afb7f0dbc', 'afe0773b9380464985e42284ec165bec', '678dbc4d04d24443bc2ee3f81702b225', '68a188b1054244c583868c4a23e5d188', '3be20c5a3ad9432ba285cc189687aac8', 'f11c5134332c4abcbb5721aa885e4cfb', '00c5a73fcccb418ea99fd4c21e344fa7', 'd3cd05bfa1084466a6f077cfcb965e86', '1ecfb9c6542546b68bc723ce51cd9191', '2b293a0eb61249bc9fd65486ccb3a9a5', '38f2a3c75e8d486c955b3079034bc4dd', 'ae9015f3256f4b0bb0d50b3fb10f1aab', '3554d5550a7f4118b4f4383b5d80c7fb', '74040626d9bd4e669a830812cdaa1421', '372edcc3e88c44eeab666a343d650869', '42fb8b68393d44bb8184e53e3586a6d9', '20552eebf9664fcb8f139936f6796595', '324c4539277841b59d8e75412f28b306', '06e851469c774096b12c970859984681', '0b4fe7eb542e4403a40d157a6d4fa99c', 'c69a77c6b2d1449ba0a385f130d752d9', 'f2f87095e27a416b8cd7426cfdb3506c', 'db1e7db194b04b0587cbbcf7d2df1e66', '8973680cca5c4af7bd251f0cc335ca30', '2585f55841434ab1bb0ce526f273769e', 'a61129a4f989424b8ee815d5fb33f660', '29576fbb4cbe4cf689f25851c8a153ec', '6f9909f2991b4c2ba8cd1b10028ff742', '3aa6d5bed3ab4a318431733a2e261705', '24041abada0a4d99bf8f82ed1bcc0a6b', 'a461ef8479b6452bbb54aab2f0b82112', '5f70d8bfc3314573b95f7238b968afac', '0e62fb89d8da475fa5364ea4bff048cf', 'a7d0ae058a4c4186b9a954ee83f67144', '52354fa9949c496fb7e8099f9a3ee15c', 'c366821a1f2f49afad888b5b5473e7d0', 'be18f4284e80467cbadcddee73bdd6f7', 'caa9797f20134a409c6ef97df11f8b38', '9e1db890fa83415493c097630a64a5c1', '052c79031add4711bfb6faba19d0054c', '33851fb385db45c1b4aa7ba8be4f2103', 'f0a41861641b45b3b576dd277de44944', 'a3df3d42bcba4d18987fedaa788dc2c5', '5964a1d1f9d9416c83055dcf980c18fb', '110a4e05b6be4f3480d44374e04e6e75', 'f402f00bb55d44809566ae37ccc46905', '7bb120489f7d47d38ae2aef0c63afadf', '7ee202baed1240f59d35190539527dd1', '331ad171e51f423b831d3fd3825abbf9', '85ff6cb90b1f445f86f9a0a6ae7f15d5', 'ff2c5e81066d4254beac9245396ce1f7', 'ec7e9f4c6c324ed19a5b6c415222be68', 'd87739f2266f410ea8e7e8d30f2aa116', 'c468566edbc140109a42e58f97d9bbf3', '7bdd3b854bda4430bc919e78c271cb20', 'bfd7cbdb12094137b1dddd5f74a2f495', '75cb8b12e4ff4de4a5b329bb4433010f', '6b1a397ae5a14471ba486ba6d09cc380', 'bc6643ed2ea74055ac986454afcb570e', '9d274a2da51044eda601dbeabd9914c2', 'eb6d85caeb6c427f867f02d36361ec22', 'c1f30b6208044a9cba05dc4a4c76ec48', '75a1072b6d7b4906943cbf2f99a62587', '09d5c74e2a8b40408d582be57b6cbaa2', 'e58771d4f44847f7a75042e5f575cdd8', '18f15a2f42f9418b820a11e6dc2ee3ee', '8e637d13c3214118a3d16ebc930d2eb6', '8ed31d02a7c7402b8574b5e3ff653601', '2d0f0032066f49aea4180a7901096a63', 'a1d36897c5c4495694a0a32769c67b36', '4626f2c80664485db9c452fa9f24f27f', 'a0cba27ee402438ea934aaa567baa0f9', '0a6236dd8fb244e1b7ee5e675f024ea2', '9291f5ae41f444f1959828a6e9461199', 'ca1f1ecd238c4fbf85a073645b780e3d', '8659dd5bf3574ff7bfa5a20e2b9562c2', 'd7af9203bb6d4a1396fb12800f32eb2e', '345e4cc89b1b4524a6be46118f89066d', '7940b603ff3749be81dd6b37b2ca9ed3', '613f245599d84b7491ee249ab05549bb', '3da5dc5e683a47a29f4467260e3ca1fd', 'da42c71b9688499888fa5ba5092d7f09', 'be63a7ff1e3244d183efe58ce5e7bef6', '8f9d684ac27b4ebbbc5886e0a520850a', '179044fa3a58465897c7aa2c3b1d65c6', '101f9a7420f342d188e2ffc71b610451', 'df108a8cc6324ead9bb63e30ce8e6ad7', '933cfacf16494b738e93df070af98f7f', '145fc79d60ec4091bd34da4673f288d0', '4958fbd22a9e408da5b3cb753518679a', '8f0725ce5bc5474b9dd5f7cad260bdc5', '8757b17f11254064b02efbce5ffccc83', 'edccd8409abb46a0b57971a091d94b02', '5dad4552342c4d41b2be80278e0d3a7f', 'f0df8d0f1fc74e3b9d3c84129385f1eb', 'c9b9d54189ce41548bca9c61352619e6', '1e3ae17d5f144c6198ae91c149fba049', 'd02afe58e483448ab51ee035068330a9', 'f6a7d12469ce464b93261c615acc3553', '2087a4261b7b4e5e88615946ac665147', 'd72d54b8c47a46878e988f001da019c4', '7b4eb44753ad43b9914e1104f41a8dbc', '8ad31731e6e448f2ac65cdc219424ff2', 'ab7c0208c39943c29310bf0cd25dd3b8', 'fee546f81224441c8b89ff5e721eebd8', 'd1ecdaf368a742928cfcd7e0054c65f9', '329f860908c34304b51e2971eda23ef1', '5bcddacf76c54c239f79acecb1e62311', '094febd55a3e4c308e96be7ebdc7aae5', 'b468565098d14b1fadc734bc1c5ebe5e', '43ae2c5f8e4b4f068de1e9656b5838e2', '4b915ec7780a4462b7e22a26c9e73cd0', '41673388a96b4f3488ab549067dcdcf6', '2933440a15724abd80640f12fb05d539', 'c5abe57afe6b42d68af17180f13a9abe', '8e1dd963d7b44097b5463b0575ab3026', '85ed22921cd747a0ab596768b1472310', 'fc4b6744714e4605b3a2b32f0a7c552f', 'bc18f121b43946569db27cbd76a0e63a', '09e4e87e980e4716aea5786927a5e32a', 'c74132040ea34791a44415b9691efc86', '8cf69e52b46041f58d7d1c4681066420', '36684bbf071f489e9d33796960777e43', 'eee45eac079140039a634fe05513b89c', '4b798025840e4bf9b4ba1b74195ec95f', '8b667ae452d54734bf7616ded12c2110', 'bfb2354a82f34e01af9d7f4a61dd34eb', '1012670a5bf74f1f96bb9d48f70b4df5', 'eda651770c2c4319becd3608f4e10af3', '593cc3cc10a14c6f8272fe265e309499', 'c9c0dc5b3d2d4c2bac559327db7d79c0', 'e58499c87e694de799168b3a78761b72', '1a57f2ee5675479cb0c2878eb7ea3f72', 'ee697071c637483888cdfe6a5ebef538', '911f97b3ff1542bf9c9806649b9a923b', '7f21dd9ab3584c5f92c88f2337762c9d', 'f6491c08c7894532a1bb7712497687ac', '4a8bcb2decdf4f29ad89bceabd83955f', '155188eafa074807ad0099acf8ad76ca', '275de50869d74b6c857c6a8fe927acd4', 'bbf2eac41b4241609a634c326c8d7544', 'be828a4522e74a888564453de5e76828', '7867116ce8c541b7a40441a79486b844', '7dd8a417617540459deb315e72566a99', 'ac3f97f7761847e985bb4c353760e5d1', '396675cbb5fd4832831458054ad28516', '4a530802f3924109b8ce7ba5482e8958', '0cf00800b8fd45e9b36c1ba8d62e47a2', '41f0fbd564ac49778095eac5d6193026', 'b8385b853e2f4932818f6d504641b4f4', '50533d2937ad488d8293d7e9e75efd64', '54ebb3b537914a87bfe250a1bdea2279', 'f2b06e58cbb04aebb21c5baaf9865d41', 'fa9df917b3ca42678ef982589bd76227', '72c09e3b430a40e397398a075d4a0795', '4a13b0569a5249e6bbd986ef3f7df1e2', 'a5292c48a69041008f0c1d808cd56a7e', '70457ebe83ce4b778af19e077d7f5b97', '0c77797a11e9426a92b78aaacbd2fe34', 'b84247bd4db741da9050a9d07e3de17e', 'dd88f64b53654fc49df310d527670b95', 'aaa0782b22c44f2e89b728eda07ee512', '2f070e250468407c8af18a95ff1db637', 'f6915335df2d40568e35669788e2a518', 'd496e988fa9349d7938bd0a6d0dea228', '8c7184700b8a4a38aea53960f4ebf364', 'e1995633848c49b190afb58f8b13bf5b', '9332f466c7984b269652bb131a69228c', '9d540f7b221d43d797d77ff22ab6ce6f', '3c133edead5041ad9f799d95cf1208d4', '79d30520759f4c9a9f2d6b369fd7439f', '2ae00e39ff824c82b81f359ed45d8a4f', '08840ec510a845aeb73d9e49851d8d39', '7b6a3deaff8d45fe8ad1b9752df44ac2', 'd14c959978d94d63bde8240006d692b3', 'f3dd8426d4b1415582eeb76ef30cfdb8', 'd041b62566e849e586ce40cad8ef3211', '07c4cb45eceb4d44afcc913e0bcef3a6', 'e2abacd7ec04424ab73bfe00db94b891', 'f58c63f298f348098c44c97684d39283', '940e952856274391888d41683f4fed98', '4a34e099e8db48ccbd5060615c3f5804', '7519a8f4baf248b5b09baf8124ec7c98', 'fa04253b8198467eba3004694f960830', '8930224ef7e344cb85cd508d8aa60e0d', '113d925be7294c91acfe13764f55d5dd', '7377dc89463549f5975839be25732446', '39e7dfb8a9bf4049b616e65accc96c49', '231b671a927d4b0483c177068af14114', '85c9fc35af0d41ee9a4be0e482241664', '0bfd7241bfca4713ba79547c7ef88b84', '59f178e7eec740dab5221363abcb9fd8', '9b4d3018b7fa40ccbcbc24fa2db65520', 'd77928d2fb6d48039857b43ca3a82d39', '344f048b8db2430c84f74c8952b01c0f', '19e6c89877c24ffa87529e89c8625874', '0e3d03da5c80428b905eb424cca62523', '8ea85956d8324862b9de993bf1ad24ca', '26009179326145eb8c4618897ddb0440', '5b013a3699ef401f9e26ae33a4b2a523', '1eaf2362f19b49d4b299326756d76f8f', '3b5e155c3fd341089f4441c242adea97', '9cd2dca6c9cf4f2d8fc955db270e3bae', '0c01b4f27b1c46ccb98f590411b90c2f', 'b354f7229d9f466e8c1daee61de0de27', 'a3c3c43c9a7149d8ab7549899732c3e6', 'd5b39fc38c6e42739f6699996f07d087', '2b2ddba3f2244aef936976aa91a2c980', '579acd93234e4487a8acffe9ed9d9213', 'e515836307254319b5b53b4a717d773e', 'fbe6639b17b7400ea2b60259bb03c11c', 'dd53613e634c4bfba17b59959fe44fa3', '835b22a6ea4e4dc6b65b582b0480ac5e', '2ea527844bb84070a15eaf323e97f418', '565a8de7fdea4c8eaf46d812512cad4e', '244e31aa557046ae8293c3fc393579f7', '2ebb5aefea7348258cd7de3e6dc67d24', '97c1b85880b6441a8b3944672b3ed06e', '9c510a4a18f2499bb6b906f14c8b2873', '616075cbfea64ad9bffcaf41fe498d76', 'fac3342c85d24f10ad7192572eca41bc', 'ec4a568c5dab4e86b1a615c117130e0b', '17e6ccc246964ed1bf01ebcec5c1912a', '489324cc8d2e4ca79c92d11357f4cd95', '9939a8a10d604ab09f7dde5451dbb059', '33c735e8ef4c48b8a5c9e341b250fc71', '4a795518aa36430c8efa160f33c5182d', '34455230680a4ff29c2a546955647f05', '706797c88c014d899a2d5403535b1d81', '3f3c83a44fa64f86984a486fa29e4684', '5e992fe605d14d8f8b69d9703ad3a8fd', 'b9b01eb390a649559198f6d1d5f1033b', '0d4b481060eb437ea17f5cb38b4e0357', '1e1bdb8e11d74fc586571a6084c00a56', 'e878b042e1f443feae0a07880d48220d', 'e940748c13bd424cb458860bb97ac944', 'e794e164513e4c1aa1cc5f894f301d9a', 'd576bbdc2bf54798a16b68c0a9cc848d', '218120d6f70142a0b84f9d9d3bf9e5c4', '324135b54c82462aa311a577ebcea7c4', 'b038cf258e2e4bc8b7e35e1bd4511d85', '4f1d8447365348d5bac8496cd0e5741d', '2a7e9c57d76c4697893a90fa6a3d1308', '0670c3517cbd4c72b7a18f8a25cfb14f', 'a19104ffe41f4691929d1224e69af7f5', 'bc5578c2ab50405ca5a8ffc101ba25e1', '32f6d701453b40708a87a327d0dc100c', '04cc45077abe46fdb7ab710a726dcae1', 'a67b48db82a247aa92048dfcce548a8f', 'fe1fdc29b8e44d128f2bb8f179daff1d', '3517672d6055419abcbfb59afffcf7f1', '704d4c1f58bf4b26867fe93ffa39f8c3', 'c6e10a6a0e554315b3ee8ad307f4e74c', 'c4d944ea08dc4e16898d5c58ec9a19e5', 'dc0c83e283e9491fbb3402a9cf4d88ea', '3d5dcda1846243c4984bce88a3b79f94', 'ee4b929e2533475ebcedf472e8801cd2', '02fb4bf1f6b54f828197ac27dbfead11', '3fcfba1442cb4cfdbdd910f92e441f0f', '897cfc925a71455394ef1208a13601cc', 'f0784ba409c84726b6e81c1e29fd0525', 'f2e0da017aa549c1ab96da471b6fb845', 'a3b758346e644402bab137a4ab9bf614', '631469f1af274b508cba38bfbae1b258', 'a8364dcbcc394f9292a7989ce340b252', '4b9ab3a398e845a88e857e27caabdc2a', '814498f56fc74b5c89f3f667ca3070cf', 'ddd9a95007114df894178c69478d4ca4', '67febe15124e45278c0cf55a5414cd2b', '29ca5e3bcbb345e2a71979a5f5b86ac0', 'd705e4a3375641fb826ad1758221e477', '9cc77e76d2d24ce9a68e4b570a952bea', 'd9e0271cdd7c48608f451387568d2354', '3f0c925fd12d479a9bd6c3e38aaba675', '51fe3c5bce4246439e54de3d973744d7', '255033635264458e80120783d5cf3923', 'afcbffd1e3fc4c2abc5805337f939331', 'b97ae052f9814101acf595dbff8c119d', 'e7d9f13deaf742a1826fe613a8df927f', '81ebc2d6c4c44de9ab949c8e0bd64d2a', '7f693cad38734612a320c1054e0fbe36', '19180bbc6f774ecaa073aa0fcc182d79', '9de0626e799a453aab2d7c5e104158cb', '47a97d6006574cb7ae3bee5ea86941e3', '90187b37425c46f4ad63a6476d11824e', '8f5d8f61d0a642fb863f79be357e6619', '7d504fe3ee2941d8a1cd82d10e4dc8ea', '628a7fa3b7c54014ab056fceae2bb6dd', 'fe3b5b6e473a4486ae4c2387362117a0', 'f9a521d7edf2440fbb5a855992be4ad3', '9f9018a7e9084f07a923ed7e089ead25', '505235a40cab4d5a9d7a4ae2590d45e6', '9f34999d078a41a2aef8e69259e3551c', 'e0bfd9bbec61401ea7289a8a79dac407', '76c5332f6ebc41088b4fa6832c8838b7', '60a02918248143d58b8f22419d7ccd76', 'b64be588c7874e42838c4231445dc999', 'ca94065ffd024856b54013680c9e84d4', '64096ad64ce845409465acf91185a73d', '14c8907eb34f4c24a4d08ca7f4fe3014', '176af12346ec456c846be233ba4bb788', 'f7269fb1c76640adbcb1de1d8206fb04', 'd090ee33521f415f955fbf3476ff7bcb', '633a23fdcc854697b6bf49a935c9952b', 'b200187f503345f1b08b863e72d540fe', 'cc7ca1dd694d4bbf94bd50e7c31158af', '6053d96a3c1e47dc8f3eb715527b0dbf', 'ed6682bc4d55471da0129110a40ba81e', '47508a13870044deafe351daa4d0c9da', 'bcca52dbac0146f6b4036119a5d3a66b', 'fc1dda3b7ac5494d8be4b377eff93eae', 'f401cf6cf16c4401971beb7c37372a53', '02e27e20d51641218ac7064b13021b87', '8676b0c422f14606a1bc8bfab4b967eb', 'e370e1a3897640bdb5f945a6d471b587', 'b7ac8ab617374daf8e0464537658f924', '5fc8a2ed337b47d8a5458483950eefc8', 'c79c905780224d8eb26f77964036b0e2', 'e789f400c9e84f718796f641b856f778', '218255e125ee4623873734b98d38e644', '100b30326ad847edb98a8b5f9b0b29d8', '95ffca2366134f59a152e699f8b446d3', '909ccc3022f344b3865794aba5060523', 'ae3fdec636734c33a4a7c58b0fa86c4f', 'ab09dd2704e1408a94ad916bc7f76856', '31508b6e11834eefb9120685a60b37b8', '5f0ab2e51ff248f89410c4cf08e71269', '75372f6fa1ec493986789786688ef59b', '40042bcf791f43cbbe98c0610af4be53', '76ab378bb8234bfebf730f425f053d31', 'd1ce1242fd1843fdb7819c5cb908bce8', '4d7fd6de666c494d9a0edc45cfeddfa9', '554625fcb35e40ec9fc4711e55ba40a2', '1f9f0ed696824aa0b1cfe940694ddae2', 'c7a24f2bb08a49749e436e5fa90e8c34', '555d5df849e2444cb25ebdca0e19ffb9', 'd301d784b194484cbed6e5345075980f', 'b941ef2de0e14947a874aa342205648d', '15eccaa806a24f5c93c49904300a90a1', '6072f89d61954c6e9fe8bba59e2ca8f9', '30f987fd38b84581a00fe9560d4f045b', '4aa4216820104f1493ab0104078a3dc6', '46ae986d3b63482c91ee767bd8e2d348', 'acb093662cc546abbe0f3f0b6533c182', '7004bc9637fc4b66b784c11c040e9090', 'c4d1d4a17ea34641be3f5e8ee73519f7', '50c7cd672a024cd6bfa9cc2835eae798', 'fcf7e3041b0e41cabeab32420385a2bd', '31a945b130394be28b44ad6e5e40ec4b', 'a0701421b06f48e39e8d703cfa265ed5', '3352fa720f56404eadf2749829132150', 'cf2bb0eb3ba24d7da6d443ae49aa49f5', '42993e11eefb415c97767030f1f59d22', 'b063a1964dc54ca283c21dd6b35a955e', '49d3536d2d8a496998d99c1820d896ac', '7209e31a5efb4b699129321d3dca35d2', '0e61b34359194cb8b06cd3785fc170e6', '4ed358c22bad46f6a1d8bffedd99a1b4', '84a395dcca304b83861e7857045ddcca', 'c63e00d4f0074c4abd96466cfcbf996d', 'ef9222fa41c6402ea1337d6941c7a90b', 'e6dd6095157046cc85a0bcdaa0914eb7', '1bcda29a704145f8a372128bc08392c3', '4698857f6f4445f29df4367d42b49581', 'e7b2a6de4a604c75a7807a541aa15548', '9632ea6b1aae4afd8783d891ef0b0ffe', 'cdfd14f1a2de461eb9a85c7afc005ed3', '67de4b2b2aae42b9b80f020b8689a1c4', 'a9dda907332049758753b246c64517e0', '77a02647b2ed411484bfc3e79b2ae631', '8a41bc14419b4dbc9d1cebeb12c4c385', '73ae67458b2745329fb3d5d06356b3ce', 'e24877fcae014d18981b3f35816d065f', '96a8cd1134a4481bbdafc99cbd12348e', '7c00f3f0980b42cb90984ef347d52637', 'aa111aae11b04fab95a99a858a9d7e5c', '663a69ed46c34028a60f1db5c4666be8', '4934b1147290409d93c8f5f2ab055a57', '0911f631fb964c71972092e200975909', 'ec53b5c8be8d4ad3819613ca070a2f43', '5f5c3a2569ef45a5966b6e85cb96fb8e', 'b605c63ca26d4799bc8c23fc53a8946c', '06032fd86b214d358ad4f34e4e2b23d1', '945e8412d2de475f81d375d9893fdadd', 'c1c81133176a49aabd2e3b812d32d8d1', '0d59c1b92f504077937572f879cd4ced', '7bf057f427e3424799d8f2a6f8755e6c', 'eb53e6865df44866a62476849524b241', '8f693d2db18d4747936b6e30c7538779', 'fa83c4cf1a3349eab80a4453abdeb067', '9b82b007d030454e8eb49d4943aafd9c', '34029ea716cc4187bdd2a5a57dd58322', '43403d23d7c14bd79d043df9fb82a42f', 'ea623f231f2f43cf8b07e761f3047fbd', 'c42e6e9f6fef46a68172049e5075e925', 'a06562d313ff4faba7b84c64c31a3e16', 'a25e7bccf06348cca74c717c16148768', '80cbc8c8237f48b399af5d0aca0931c4', 'b2f3686a3bc64b199f6d412076d75c67', 'd903c7328dba476585665fc9150a5970', 'fe2173ac011345afaf72b2fabe4b105f', '70de84ce528849829ab75a1db4f2156f', 'eb68ed2e7b124527b421558a5d1a3172', '7c3b2f32e34e425fa90de0ee213a81d6', '4b3c450057ab40cea97bb88a822aad65', 'dcffbcde45af4293ba110f51befc2f88', '7f4220864b3747be8dc7fae5d8859d81', '6ae3c71cc84a4ed6ae5178a65ee9b5b3', '5440bcfb71c149beacb20b3de21c0193', '11db15dfd075449194e2d5b53d5f8402', 'e1406cfef3504e288a6defaaa9bf0fc2', '63760e1eba46404dac995a972569b9bb', 'a63c6f74ee5f4079940a360e5304b4cd', 'cc975173dc0c46b7bd16381748169123', 'fc81c01d7d85489996a9d6ac375ab3b9', '174cc4471f99441b8ce353e830a54655', 'daf99c4b20de4c1cac71d0fc2452877b', 'a9760cad36464213abb95a4333a7a253', '7fd64c704f49429cb53f0db26a23fddf', '556882b1946c42e9ac9b5aefae62b3ef', '0365791dc1d84213af640483adab4291', '19c0633849254bb8a8ba99d166c4e440', '56f263dbcd7a463882051b9e07879093', 'a3cc5f6974d3493caf92f0b88192e2c3', '4811dade31564bcbbdba439ed5bfc195', '36fed96b0a104a96895f66b0408779b5', '49b293ca6956473b9b347a8444babfd8', '8728524bc84f4f5fa78f19eefbdc6555', 'a1f95409fd2e4a50a11d2072083728a7', '80ed0d6b34d6413e88b95a846ddcadac', 'c8562b4b08d6474095201c552aaa770f', 'b71884212264425d9673332c97f9f6bc', '10228fde3704453dae50bcb4b78d1e84', '81c55fd67e394c4c88cc7ab8711ba198', 'ea2a6fc90cfd40589fabeacdb699faf8', 'fd616297af594bbaa41d1f7fa2350598', '577930ab9f46480cbece60890f80abb0', 'f9264c9901304d2a93d0922be71fca61', '3bda7db0dd864ea2b2d26c08c71ae6ff', 'b846afb32b2c4649996f6e77d0bd6105', 'bab18effcbf14a148b6b0fc59f2d3cfb', '64edf7d2eecf4bcda8fce0f41be5abc5', 'e140d82b2d584498bf0918460df5dc4c', '1bd7169d2a4f42e59707b03df528d1fb', '22134396211d4d9bb1f44f2a1d678bb0', 'aa03cd25c5654379b127576d18843703', '5dbe2a95c86d4317a61fa093d4adcf38', '607203eda0ca400196d1e6af2f8995d7', '31b46a37962442c2bdcc20f2dc761d86', '5e16dac4bfaf470d9da9927886dd95d4', '4c2cc39de1b845d2ab255768f912a9f5', '451c187ca36d49ceb773885901976802', '32f75c83214d4ec99f7f682577c912e9', '0f09aaa6b4ba4b1f9367cfe0f28b135b', '3b000ebf93d04f18bc98ec9878f8fd76', '83e89d61baa748859dd75b683e6956c1', '0626fcec959e450bac0c6321149e5542', '874bc94458094301b9bf08a8289a750a', '3f0e6f1f7bd9470988c2edd1b7552ea9', '83be4eda47904b609efb29e317301e53', '32fe2db8ae0745c49adbe40f1049ff2f', '9e67d2888cc241489508394937e4f4b5', 'ba6c533796eb4647b11515bc3f415209', '090234bec3334ad7828d1bc1f588b347', 'b46f5ec6330e435197737b92708ccf91', '8bcdb071330a450fa67939f837eb8b17', 'f494408516434398a59602e7f0bfe7ee', 'e2f09f767f1243fdb0a746fe6d0cc652', '8a40f99b57c54573b5df643496a1582f', 'deb235a4617343e98f4381831e0be8a7', '98675c5c981a4dc5877c434b7960bb44', '65ae6ee5e39b400fb2d716738bdf4e67', '4ea286cff7f145bdb5c10d689b419f74', 'f7541d0954954c21b209837c5e421996', 'd6bf0325a011422a82d96b8cc9df2f02', '16da679b20ec471093127e28d9391c7f', 'e11635ff5f614baeac5bbb73ffb4ce66', '0994afab9a9943a2a72214564344a4ce', '5cfc60978517454ea23f9839813f6c85', 'c082b6a278664b379d3cb23b0b103309', 'c9cc8adcb2d24a08977be6783cb1594d', '570294bfc3e2400e811a7ebb94ad898b', 'ce88f1e6761a4fc39b221160edeff671', '1cb9a5a8d0114c24b573c21f37d2a2ef', '4dbbf821cabe4033a8eda35142734069', '0834dbb7c8e84d0380611efd58e88782', '0af230b033284de0bc790f8df94d6b4a', '4959583ee6cd4720999684d19ea3c558', 'cbf16aac6a1b4c219ece261b97890c34', '95d59bc1b27549f18556839b91245284', '5138a03e3f6e423dbd5a2b42fa43fbdd', '9a7d5b8de030424ba47bea01fb290e72', '4ffbc3cc6d6e4bdeb3d06313fc3725d6', 'fd609b6763d74432b88c6ff9d4d6f5bf', '764a52cc88704489abb78a4ca674e7bd', '28b24a10bc674cf997fde06c45b87f11', '78df07847e954469973aee2aa519b2ca', '170b8d550cac4c948828a86341dd01f5', '7e2c489f84ea4628bcc30f11c0089d67', '7dd9111865b34735aa23cb71d46115e1', '268b8d3ce1454541a9010876b4b9e0fb', '1da7adaaf2144e798ff077ed4a69d907', 'ad3c3390f6b149469ca6abc068cd1df0', '550817c4719e4d1cbe11c4d3d5b72c27', 'd877ce0c627c4a7aa965eaaed7cc8128', '247f0c0dd9044dad84be33edb7ebea0e', 'e897db270d204e359979de36e321773c', 'a7bd9a8f4c5f47e5819cb3d81346da48', 'd509a52e86904827b890882332d62606', '3fc096a9b1714664a4fc8b25dbac735b', '87b67c046597425db1704012f65cf302', '5fdc24abd43d4381a34be3acef1e0371', '8992f31cf0c74a9fa4a8d7561beb8094', '7c8b69dd0f324b139eb13adeed169729', 'a76202bc85874bd2858510d073005aa8', 'b519d53e2734451da9a3f599f74b37c4', '09d457b2fb984a8cbd8ff33597cea82f', '9a49a420dc3d443f9929a208624b51cc', '6350297f66c54068b3542fced60510e4', 'fe2c263e67ba467ba3d75ea306e0584d', 'dac5f4d76048416596ee712da9a5ed3b', 'bafb791fdc62456c83c6acb3fdf1edc6', 'ee89cdf99ea647a69b12c61fe5b0a64c', '29f69b33e32b4d17be52d8a7d297f009', 'eda90036d4ca49b58c809d818cf5768b', 'bdde4498fb1448cc85733ace843a42fa', '2f5454df7f52404da2241aebecfca56e', 'd47ae978b9d64be4bd0c96cd91862b79', '9a0081b29eaa4c7cad647c9fdb636d9d', '6b1ff5f06f104c319392a55d24d2eaa8', 'bdba651c7e874208abaaa082f752bb77', '5e1c6c2b8deb4070a0ae72b50a1b71dd', '99dd24b0c86547a19b1afce53f5f5a03', 'bd41b7f2590e4daca82185ee17a56439', 'e14893fbfdfc4685ba01da7097e732bd', '5256279dae11451c926c2173d319e466', '8a4982674bf141ef804f296b68b3395a', 'f89e9e22a49a4cc99e2c39255e04fa69', '10e2ce16fde44e478a68cb84e9a0ddd0', '7b86fa47d5dc47779923e486bf596184', '1fa503d9290d40d2b1811c0f14b84176', '76143d56c43f48648ce291c518410659', '60750d7b2ace44949ab5eb611656e2c6', '01af5cb8fbd04a2483c913b92678a45a', '756a5279d06940e8b2eb2a59f80e23b9', '03f35b6ffcfd47f7ab970ad29cb89ad9', '9c66e156564a4aab82df44ca1afd3e82', 'ed626948d1e2416fbd666db69ef2845a', '8d6bbedd6fcf45a2b3c963a549c34431', 'f410108b0b03478185a5325918e4f14c', 'bad4bf7bd08c4467b3fb127910b76410', '4c4fecedce8347bbaa014d218a85a8a6', 'de761ee9082a4dd98970f4e5e7f6dc83', 'ac31b3ce8ce94581b53071738a56f95e', '93f7ca51bf5c4fa9895187b86050d58d', '983a6ac0a0ec431b8ce9c0a5fafb847a', 'ebb6df843bb24483a34268d91620674e', 'c6f4e52a2194403981427cc55ee6362c', 'b1a47e5292364a22b0e8d7b0d857b3b2', '530e6e5c1ee04c3ca7899eb967cf2552', 'b67b154b7b904270be7167b2baf95423', '2939855072cf4081874fad5fc9fe3853', '242d904cd576493abe9dce8669701ddc', '52b990b808c74ac68b0b7616dfb7bd6a', 'aeac61568906448b9201699ab4559c93', '41425b689563406a87e8d79d70970335', '5c0c662bef7f46488db5c2dc1274041e', 'fd45bcffb1be4714be94bcb7960cf3df', '61c58e8e506e447693bb22b57506e3e4', '662fb47dd71b4aa6a657cc6942c754a7', '0d71c64334984922b508ab986e91f18d', '5a981f758a6d4560b97cc40c2fcdadec', 'a9c483f328074aceb85bde3439e051cd', 'd794e776ea2f471581e334920e79e686', '83545539662d4e30a72fe6e62253baec', '132059403e784634aefdba682a339cd0', 'e55f6deb964b4e0ab20c80863aed128a', 'e57acde4ea7e4227b79bf90854ece0fb', 'c90866f5320e44459aac31ee665d136b', '9ef2eb5fa5604478ba97ac3a199195ff', '5a496772f003496f8cbc2b9c19463fcf', '9103010de7304d34b00bd49bc384b2df', '436199a2442842418d188cd9ecb968c6', '740528dfc8684e17ab836b043a7b05e5', '0d210e07a7b142529266d26cda302a7b', 'b2fc4864a7e44beab60b00081b80a004', '0720bf148a6e45faa9dd5e61b1de4798', 'f567e92dbb0141e39d2ff7c3b9010b13', '86e1acd8dc364d349b9dbbc78009a5ae', '766a50a5442141788d550c8ad0cfd2ae', '2122f0694d274fa5a78cdd99daf830c0', '3954cc64c8284449a01fcc44f407469d', '6254e3711bf84b3cb2c12bd457b65031', 'd8e1c6c03b6b49efb8d6b41379a73563', 'ab592526b22e4e4282888c8e0cb58860', '7e2ecfd34fc3436faa6de01c4bd21f26', 'af91bdd13ba1497c8ae0e7f71d90f7b3', '4e0944b60d6a42da8cea571f22890abc', '51c66859ad6f4f6980fe56bd2990dbf2', 'd01eab6fc5a74839bf8b5db3beca5745', '1d41c258d8d94c9583880a4d4ccc7b19', '5b2e7020d69849d58267a0b3e6253c59', '16374d6ebb9c4a5a8330784600117ca9', 'ab1973d5098242a2b281f891d99c176f', '9bec180e2a1543b584fc1e27ecee4f19', '0d987d33c5154edda805dd7b1be12e23', '9cb9e89f950d44cd8d49ac0f557c7168', '2dd53043d6794b42a4392571d67dae38', '1b1a365d2b164ecfa1637cd149744978', '18a4b59657514634ab3e3bb1418e8373', 'e499c7ed2f4e421d929d32b44dbc7d0f', '190db93547bc4222a7220c3f0e031742', 'f63f85efcc354f44be3d17c303b0d6a1', 'ec59780d7aa64148bf0f80b61ca05bee', 'df40460128f4440ebd52800fae693b6e', '88845dd4ba2a4fd78beba3c1ec34b55e', '6b204564508a48f9a97f643a89becc41', '9f58391c137946c6ade22594df5e68db', 'aa4f9bed9e7f43b298920fbf4163e82b', '054c944df63c42929e3bdc1aa92bf47a', '61b607c69ca44d47b262c1c6b69785a5', 'dd474cb1700e457f9a67c621caa3239e', '3025024a4e3f48a68db17ba3390eff45', '1e663e609f1e45c6a42e0d7753e721f2', '46b627c9cf114c529b858acd9c6d4a09', '5e5b5d9034f7461a8df4b17b1867ce5c', '183865f6707c407d9af5557d65568006', 'cfb56ce54de64a608bc1d1609e7bcda9', '8fe39e8e3ee4456c9a78bc332c9ed342', 'b7d06bb337664655b46512ed45f33fca', '251cdf70d38e4e2db2706c3029f5e5c3', '1c9d2d8eed3348cfbe46ecd12d9d597c', '15f88ff1091b49498bd94edc19cef54d', '21dce3d698214e12a9ae2cb45f0719b6', '7d72f33ff16140e68e1eed85003162e2', 'ad219f26c9b94ac195d2588442160be2', 'd3768e24e1694a6f9b5bf5fb246c0b77', 'bf4ea27ef590405aaf8f20da24a62f98', 'a3ade808f9a74a36b127f02eba76c5d2', '66d97d285a0149bcb56cee8be16a60c2', 'e37910ac8df24688a0f3c2d0f757808a', '56f06f0722d047419ac32d80edce5605', 'fa57ef6fb5e644fa82220525eb31a5de', '4450b5d202c04253bd909398a0dc89c4', 'e56fee0bde3e452c954b350328038440', '4642d8c26e9e4075a2d71c859723c3c4', '952db10cbe514220a1457c4d6d986d58', 'aa97d6e81299436593ba60fbbe331756', '340e704dae3c4f569df61b5757f3236e', '878494c75fc14db9861a3b993be820c2', '3497d8475f1743a588efc9d73e8e230e', '90a6bdf82bb44dcd88f05a30fea8a6e4', '29a869660d634e19a0e6938420b1c98e', '4d64b7a3f48944e3953b82eef221e858', '3482675a1a734d89b17419520c7fabd4', '1da2804b50c140e2a87c7f85c64d70a8', 'a908783614d64783a9b2006cbdd6f2fb', '25846aab06814ec39d791711e1eed0fb', '93d0f2bbccb6465aae296b18f0e7134f', 'd6ac4e40d68f48c1a45786329a881585', 'bfcc4f18137d47c9af9ec83b571d5c25', '4030ee97ddfc45ad834361cd91647b0a', '83a0440925f447a291f0bc7130a8c112', '9c844447d95d477b84c426e8f960f2bd', 'cbd9fe1b491f4d29a37650f53e515dd4', 'd1e1e64bed3246f9b1da5d64367c1a29', 'e4904086a6a14433883d608a407ade5a', 'aaba75cf4d424115ba567bf887acc91b', 'b5bf6a72160f460bb32dd20575424ae0', '92d2c41dd999449eb865706e831516b4', '13505493acef430f83a4cd2fcbc118a6', 'b6f4d2b8979e4bfc8fec46b6723abdc6', '53125cee4f414ed9bba2b638ca6eb3e3', 'afbbcd44e07344baa7de1d11c280325b', '9ccf298bbe684af2b551cb6058bd167e', '26a3b64ab7cf40a5beb54d9d55d3fef2', '0553a18ccdd34400b135c75c7f641961', '3433a97aeb334ac9a296793c490611f4', '541df706f097428790b457bf4d5a22b2', '25657e6642df4d4b8699165c4ed3a78d', 'bdc5838a538f48b296b3c2652de8b55b', '2e8824b0eaab4970ba024058329c3ed4', '7a5a21862e5142309b337f4c2aff6506', '14160ef7b25b4793ab98d0c6ffb34064', 'ce61b0a5fe2843578fcb987f89ee1a56', '302508c3ee0544b2a38e02d6dcc3d90a', '62f790a87ed54ad29de0901df294760e', 'a9a9265c54fe4700adc6bcbc1839c6b9', 'b1e92b60c5dc4b908d718eb7974c0b96', 'ca407b746e624b08a908e85107068199', 'fb2c0aedee8d45c483587eb71cfb8d03', '356ab9c71ce34e62996b5d38c72db241', '5cae78f525ce43228be918ceeb8b3172', '6ca58b7b60e14f51a3681b2f473d8c6b', '95e68f1ea7e64ba5bcb1721ed90aea9d', '977d1bca11fa4077860d24fd0a936ee9', '9822e82bb5fc42e0aa3003c2fedec371', '50d1c61776b04a14acdcd65ef12857f3', '6a559753b65646f1821a813f1d52471e', '6aae785a820e43c1a1f01788ef7c49cc', '95c7a989543d4069b387cd3723c2685f', '395e6898fd83428f804e6aaa8d58a8f0', '594b956689574309aac41f85f2f7a397', '631ed1d058fb47b299d64078e4385f9d', 'ec850f02d4894db39d039cf2c36fc930', '7004895ae93742009cde8a39bdc5fdd8', '5ccd09afbd554b32beea996c7c732fd8', '7901e3b9c9f047c787f69103f573ee7a', '1b4dd49489aa4a67a1ebf520c7b8e28a', '652c20e857fa4f5db69791c12c841124', '2527ccb2d4004fd9ac5fcb9711927cf6', '11b628d5270c49939360b746253d50b5', '04ba729bb8b040ce88b4dadf5ac4c069', '8c1eae3ea9cb45dea6a1183b7cbd11f3', '99d81046625449148af4f4d0346eaecd', 'df384730b3d14f83868516472b3e71e6', 'd8bad200e0ef48698447e574505e9081', '97673fff420540b28d2928309682614a', 'f7ba8caf85304515932738cdab14f35f', '7a9b228f8b2a477a9aeef95f3ea26aa5', '95a803c541f34c58b809b9664505bbc1', 'e630e31d9be442689248758c3897e686', '084d60faadd744b3a3eed06162b96bc5', '5439d5e3b64e407b8b86bc02262f0c19', '41a4ff32c8ae49f898753455374b7ef8', '0dd650fe4dbb43738bd7b63a102d5908', '0dcde542c436438c9252a2ccf11a138c', '70a629fe63804b2f80b92bd9005759c3', '15a95e88fedb43b1802d55b614cc9f7d', 'c3cae4199b224634a780668c10a02e1e', '7ceb480f10694d94a3da4ad36a8b03bb', 'e39bf6795a2d4f519991568b87ea0fde', '59845408edcb4c67abb59db93b025247', '98f33167f622422aba17199349e070c4', '236e729f959948bf9a6b321d996b8825', '6ff21a6101084ac591368c6e882a6ccf', '7ec0989d9a56460f86da179a9954ca36', '5b9f27d4da8d433cb95d363a67fdccf0', 'be57ab341cb64045b6f6410731f68e33', '0c920ffdef8d4e87a8e001be92a8959e', 'ca727412fb5648c1884548c13a44b5fd', 'fe57328def034cfe9561e7c6fd02ba3b', '32051b7236444e3ba837094a6d2fe54e', '403396ceffee47b7a8484e2905b8308d', '4371ad97ebda49df9673fb5cbca7ca63', 'ccdfdba56b9e43d2a3efbca1d68e82ec', '42fdcd2e925c4ff8af5a88d1a6d81f7b', 'ea219313ee754372a50ffd131c3a7022', '699944b808624e98a64eb0b8f768ec77', '371bbc2fbc414714b4a13c0a87a9b5ed', 'd3e9b39f4ed642ce907d1b2cd7e6413c', 'f2017b101bf74bebba3c96f44d9c2ae6', 'e6ea3ee6017d44c486b4b6d1f556bb14', 'bf03b4efdbde46839433c8a66429df4e', '64d0e9f9e9d142ebac5dddb0ee937fb4', '1a73078ebd7b4e468851d1b6e97cbb8b', '18aca589f89e4cdd9188394b6b48c528', 'eda399f84f8b4387af6a0395a3c464eb', 'c38ae1bcb06a48298b7319bbd7eb8bef', '14e914b249394c89b92c6e61b8d54d4a', '49fb941ba4964450a9ba1dbf4108b437', 'e9f65c4a518f46d98e963deb5c4be396', 'b2184e43dbc947cc9b77673499cc9f8b', 'df3d72f913b54c3c9e122d9567714612', '553cf5f865dc4fdd9acef3834827ec82', '6c7a6a0522c14b6492f853ddd77fa7f2', 'b041fdf35f3f4886af02df6759420281', 'e30e9a2ed14649568c106633e74039ae', '7ddd0fbeb7ae4c5c9b606e0ee191645a', '4139a8eeb8bc4ed383aad82b63848b79', '04ece1e3e8a7456a8f070bfafb4d321a', '503f944d76da4ce597e1a495a5fea21f', 'aa5cdc0bcf7c4f858b0f478fafd48e2c', 'e6fdb95e372d4312b6be82ea3d0ed8fd', '7cc4cd58464346a19f18be2210d1225c', '82030e86e9f943e9a582bd6558c18161', '7230970eb6544b5d89e8bdd0b987fa75', 'fe370a5ace1c43e68358f5542d88a001', '25311cd22ea343be8fbc35adad66cc7b', '00f04360544f4ab7bc345acfb282a9d8', 'd70dad8362634d1fbaf8c42cbc5a0078', 'feb6a9ed0cef415da4578272e2e85629', '94145d7f379a40fb8ac800f93e26021b', '6708a97e3d564071889cab26e40fefdb', 'e79239230a554394bea5cdaf0cd0a8b3', '8f1c45ecff8e4e2d8542745722dc9e92', 'cf8c6ca92a794885a27fd4f16b582f62', '6c6c5b97d5fa4ab7b01d537c4bbac0ca', 'f2fa30391fbc4d92bc8167d48b106d9d', '2b695f7923f74205b694407a540983d7', '6962b3e405554645ba9494ff5a050a3a', 'fdd788d97b3c45c99dd52ec2718643c5', 'b5060c4c8c8c4bd1bd0c2b4ce138fe04', 'cff8937e25a44aa69f9b1983ae15dcea', '4da2c4c1d7d141dca0c70c0249dac7e8', '220921e889a24b7594e256a2182b344b', '92085b5cdc334a61bf66d55a0ffc7551', '0c5cf9952c4a4d7fabd8009628a89566', 'faa25954dfa34e16be298a9f9aaa8e60', '7b07f15eaf504089820dea7844315ca4', '8bc0a38f1d974cc59596b15e611cd592', 'c31415d19ecf4922916aadef1c7eb372', '38f8c2c4da2f44859d0ae4ef00b3586c', 'bcd3596144cb4c7b9b2138c6d790aada', '0b3546d8daa54a6299775a62ea34e2da', 'ec3a4357fbe049caad928a447a585ea2', 'bbc8604a9bb64d059d021d9ed08150f8', '9af548c233f641bda56ea4bdbf2f239f', 'bb50246021f44821a85a5c4a66333de4', '1a814ea35e324dc8b0ea0d264d1e2599', 'cc3e5a1070754c11b3924f9d059e281c', '4a9640b59e6b4a0995a656b8baddb493', '4eb5ccc1ce3c4bdf8b2f018eb2ed2002', '654a3d1ce8b84844b447e9e5f7e62445', '5d987b85f3d84c23b4599569dcfd57c5', '5a4c41e93d974fe29deead9246af21e4', '99e6650a46fa40749b03061abf2d5ccc', '09e208b0a29f4166953cca142d704d4f', '3985d3908ee940cd88eca0ca25c4a544', '0e1dcb4900394b618e8575534f02af73', 'dbc9a7dafc7e4453bf358d8e5bc59631', '5662fc1dd64149a88e1420cd26e191a2', '6e260be49fa341c1a44358e76f9f8355', 'b51cf60282a34bffaf74f14c729f41af', 'e15d2d41717e4a1c9af7500b35db433b', 'ff20540b68654e339fde53e5068b49f2', '44f4924d05f744bc8f7bbef67791b552', '7c23af8631f44c8d969cc19167ab19ac', '0712b411a71b4e928fcf0f728f1a78c3', 'bd769e3bb06240e5a676f27ab9bbb113', '0d55bf4be61046a69ef57f66cd55dc8b', '34523164bd304cdebf8b98ad1dab5708', '52417d7722e4488da55b8f00c779ca4f', '2f0a9e2b222c4d3383b3c8d05881b833', 'dfcbd8adf7de499c8a51fb5e5b97bbdc', '53608f7c911f48deaf0c1fcd7f51294c', 'ca1e9ce2d79544aab97ad1d97f75e1c8', 'bc7e278f1e64410db0ea27c0aa2da266', '55119db0bd7441438bd90390d654d9de', '6482019780624fd18ea593edc3934111', '43409a2720ff4a26961c5b3e01ea22a3', 'c6f32a61a62749588a6f78e8f2fe0c4c', 'eee61695e10340fd9e19e0e74738acb1', '1a71cc03467f48c9a99d80e94424acf9', '84dd93431d9f448db37e55936f91b9b7', '9a5c9de29e2747eaa0def4739ef811d8', 'd4fbd1639bb948e5bad2fb891acd8749', 'd036dd6d7f944d4eb29af1fd9f15314b', '4d858f599cab4f50ad763321e25b12c8', 'c2b0513785394056ae4f599bdcb2a1a2', '8f2b34c8a9ad4650ad288be73ce7cb3f', 'fa4385822b904012a53d3d749223c0d6', '1be4c6dd352e4a55aba3dff44f765662', 'be6fb3aa275643fbba5c662bf9e5d632', 'b13ed169d555494195d9e36b368f3870', '669737b3cdc64df99002b2af72a23fc6', 'eab4cd3e5a1847bcad79977ce9bffd91', '2158a6404f204ed5ab410ce730fc9be2', 'cee0e9637d074aedb9ec02ed8e4be8e7', '79c47be5680541c08af7dfb86543cc1c', '67fcc5032cba42fab0b87d288a94573b', '915f2138a86846888f1def93d57e650e', '6e6442646060414785cc308f52051d91', 'db57f7fa7a434e188e5f3998da5cac69', 'd5a0410936154d3ab9d622d7c92354d9', '56b4087749324d39b6987046a40b9e17', '6a13ec2a5d1d46cf8ef7e1c8310c3cf7', 'a0da5da599c74f8087be9b22a94f2343', '90e99e5daf7743bd917e594f5248d993', '031d1c4d54b641808ff31c991c657508', '4464d86196c94e5a85060c757ce4a6b1', '57f1dba7f29b46a982cc05dc15ce5f10', '86842f12ebe04f839b839ac2da5506b4', 'b8c1ab59586744478df5259c5df6f5eb', '15dfb7bd528d4d19831eab3af95502e4', 'a19f1d91ae0d4cfc82c6838dab4c51d3', '001a838147d34a7592d06272e9532cb5', '5e820c8c368b4bb9aed7b2d652681129', '293acb0aad144308873e5b5e330e7f00', '9e77b2c44cbb4470962ecb154613af14', 'f87028e53f834e809504d82806f7cec8', '392cf6359166427db1f3568d8ed5dcc6', '0ad22dd367e34be1a09eae13f52afe11', '980953e90c3f460bbb4a6eb3500cbb67', '29a44d43af5d4cdfb5e95492a3b3ed14', '6931f65f379b4ec9bca43eea32823b02', '2f660430c4754888a203c5de7ec3c4a7', '6662db08bdd24285908ff912ea7629ad', '07adfb96d1b14ef9980c7a2926aa82f1', 'aafd2c8b5a3a4943beef8d5186bb57f5', '51edf096d09d4d949b24113e9fbbafe9', '3b7d78eebb6843c9a0501870566b4045', 'b8b0700adac745dfad409fb296923bc1', 'cd3ad8264c5d45a0ab4e61617571882e', '19e0705341374a989aba648369d6f75b', '496d4540de1e45eb8713ad40f385716f', '5ad3248d6e574f84a3100904fa8f7359', '23c83c5322584a9088c1ec0fa5270606', '1c8d2ba4b69c4ec89b69c3ce37c54cd3', '688d416c9b0b4449857e1da612a379ca', 'f19c3701132249ff92a036da5c996680', 'a58af22130db43fa96cc006b9c3db872', '017c98496a104edf82503332f0a18167', '91f28612c60a4ae4a50d590a6cd0dd5e', 'b74b9eda5c5f458284303649ec444d26', '3c492254c49746aa9c31bf112a690fc3', '192f16c1fe114c34b9b6236fc1a7821d', '51b93706e7244c7b81a43bcb5b187ee5', '475e7cb5783749089afcb6cd17cab9e3', '4edb7a3822ad4bf28d31af10a450ab08', '1e2c333a30f7424c853390a3a75d2f09', 'be38faabd5b44ecab4f22fa611169911', '3f7a1e7115f94246b15fde53132d4aca', 'fae99e3c3b224dda9dff9a605fe1a047', '6b3d0ac56f974ce78111b3e6a0130bf6', 'e69e9b3044ef434ca86f0ed0e7029e33', 'ff5fd4651163408cbbf77259f6961eff', '1a900d6fa4ae494abd4bbbcf1eaedf53', '0de7c52645ab456aa50954a438ec4119', '1b5fb6f9ca0142bca95732cdb704cdce', '3c31034fc3694b9bbc4f08d7cdfe5180', '3519d7eb461d47ef9962b0f2263f61a7', '9580b20e7bbe4c149a9577ce0614b62d', 'e66418b104974f82a01cf6437adb0778', 'a925ee8121ed478799f5b24c2742e851', '8b6f31b518db4383939ea91ff7d87889', 'f537879e4887481c9f9baad57471edad', '14bcad8665614389a41c3958bc0faf0b', '9085749eb63340229bdecc937c081fc5', '7d97e7dbc7a9478a8c37f4fff91d23f4', 'bb0dd8bc139346739b87f58b949c3b47', '2f1ca887b79d4354a8bd87f773928321', '593d3fbde3a0494093e7a9e1fa542cf3', 'dfa2e880d1a14e62b3f7d7ca858f072d', 'bd56117f3a0e42dd884eab20bf7920d6', '4c6d2a64631748edbff64721abc5f1d2', '99de124451dc4137b201c9baf655ecd3', '37ffda82534d4329a2088d4c4ef18ef7', '0ac0ed745c8243b1b2987a1238080716', '85b2941982814360939b4246473f17ce', 'fcfca530ad02476d84bd3fb3bfcc3b6c', '8eabdd4deac24b08a8df5e4873c0e620', 'b17becaf8f854526a516cfce9ec4ca24', '965b81a2320446b293739d9e6aa34a9a', 'd17f9dfaa15d40f0b7b5739df03f2bb3', 'af6a575efbab4feea87448a89ceac0c7', 'a5c3dfe4e4654d3886206ce66d404dec', '579f305b775249119c9bcd79ff027cb6', 'dbc63cebcce6408d8b2b6738465e3972', 'fd52521176554b08a2208574c80c129b', '9417bfc38b0f40e788dea42995718d62', '557117a430114399a97a11c6d7053268', 'a7d58104eb4d4bcaabebda828329f7cc', 'b8947b9d57614f298fa6911b3536b405', '1753458e6a274cb796cf39e63f571209', '0ec0aa1ab109463c88100bac8e48c428', '3fc01175db424c63b6be22139828d6f3', 'd4962f3ce99948cfa059bf4faa94d13b', '8ca78a8329254975b70d940b9d48bbaf', '49d43a91b4024681aa67d250bc6840f4', 'bfd101624f4645c2be3af4786e0fb495', '962048c8ea01480ea42fc04c28fbef01', '80a468beae9243d9950d457a65307d1c', '26c5eb493cff4689a9fe28debc803fd4', 'cf9ccdc7cc0e4479a549d65712b5a6f9', 'e7e63e87d69b49b59f730079087278d4', 'bacd4253946d4e60a0da302edf9293b7', '092f99e99c61441696a03ab84eb155ca', 'f987f9480e9242519cdae20f3f1e86b1', 'ed5bda036fb44cdb9e1a06c88002336d', 'd046122f25ba4c94b9e19040844da1ae', 'a3066ce4a6144a59bd5981e61bf40636', 'b9e78ca212e8464ab4ebdd3151ce0ee3', 'a1a39a417e7c4213b4ee52397e7ea76f', '7453eec2e8e04b55a177db147ba9f855', '26e2a5e1b4f54f2f927b95e7a38c900a', '0b9b52586ca84a838c1dc863b5074a30', 'e0b5ecfe748b40ec81ea0951829b5352', 'c2d87d47466d4c778a5fd8c72719e3ca', '5af775e72f584841bd8099b95fc237af', 'd4bba458486f4aacbac42c9ea12b7510', 'bc82624a0ed54412990ce7214a137d50', '76b7b5d53bc54e56a55152954cf09c10', 'b2e0cdd75d8343ec8a6dc0cedd4da8d4', '0a0c8243914441e9a429a838fdbf552e', '3edc69714cf64e1c8b72390702441d5a', 'a8bd03d979ea4d549f3bc5bfec58389a', 'd3476e02ab584d298c4298cd7b54fb2f', '49626e67186e4f14abca5cf0a9c96b57', 'a5194bbc3ca44ff3baa49bac61ea0024', '3f1e37623ed34baaba9f70929bb8b29f', '3783e7dabd6c4b889c61c7f44bea0a74', '4d0548117471469986021691f604cef3', 'f25c85a073f64449a400b549081a3978', '3566b91d27734498bc49865607edfdda', '4805c40aee6c4a948bd1d69e4296d4f0', 'ea86852bb82247c29a46c20af2ed8e0e', 'eda800a1e6c345258382581b63575f17', 'c795943fca184f67b63cd224d5cb0be3', '704e4d60e42b426fad221a3152d32f0a', '064aa8838bba47afabd37873f857d9cd', '04d53c432d274d4399ebb235d05d11ae', '889c134384d44393a0b5e2f1e983fa88', '7a6b08e7438f44eeb95a8b88a681e8f5', 'ea338b19f0d24f2c938df36c09775dca', 'bffe922feb8c46018bdaf2a179dca154', '5c4db0876a0f4cc88068a7bcf722426e', '8770573e3d6f4a3bb11ec1b950497d92', '588ff70561664cb2bf26e18fb91354d3', 'ee321c319da54608b72f4abb338fd37a', 'd6a35607b7564f4e8e1739c786bfcf4b', 'e36969a682be49ea9f659a66cd1f7f59', '1db78284282c42a08c827912c3180168', '4048786163084d52a3412a4ec83649b7', '8caa2de140c9437381093fdafc0b084c', '04d034e99e0043fdbdecafaed235f64e', '385217af123744fcbcbf0c1dbbd0ec96', '7c97fcaa890043b0a9c3fc75c5cbf7c1', '09435f1485b747df836469efdec52a1d', '9758f836bae24ef7ae9a9fdf88ac28ff', '9d011d4d3a8244038659e2bb76e2a113', 'e0a3e08ec42547c1a3030adf0f0f9b25', '045a8c84fe50422dbaae6361b777e81a', 'c126e08665724010a177e0cdc70b1a63', 'eaf739038e7e4e009dcccc3c28b9adb6', '2867ee984d14470cafedcb8877c68d08', '82b8745e8a1a4641af2fb5e56a41caf1', '7502dcfce67d41ffbf0fa947c33c4238', '3013a47e8519485089ad59af47eca627', 'ea509699d8f84f57a3a8ad69307f1b44', '4371dda5b5a245228df144c71f25818a', '1c8b96f4621a40b5ae855236d903067b', '8989427a1f2a4a1db66b41fff5cc072b', '6c8a343ceb4043d0a1186fe9443c00aa', '7c8e1847c9434fa49ada650dab5ab336', '520a5422909146bb80ac7d745f273573', '35ff1e173b1d4b8daaea9c6fc82dbc54', '95dc323f5c9d4555998fa6152be2850c', '33447c41aec44833a3581bef87644fe6', '27ce36bba4434b0396f904c604ac82ff', '344c3d3482d74d35b0ab1570b5a7b4c6', '28e1b66b61814bf4921174818b1c4d69', '5f94709803ce4cdd8e5ca9ab996dd706', '1a8c57b60aa8470abc0056c8b44cbed3', 'd31c98f1678c4bbc86bc9f826968f937', 'faeef49d47574de79fff2469ee0f75af', 'd75a26e19afa417dab911155ec7a0398', '77f24013f4f543aaad00e84d2b35a220', '00bb9176d30c4feabc5a13879f1b0d40', '383fdb5617b8471d9e7923835db6e424', '87129cc3b48a4aa68db430e8d5eb9450', 'e4000db81d3642c1b7d62c51c08f4e83', '5bcc501bbce14eadb8d21608549b75ae', 'f7ecb0c660fe4e8ca19165dd0866e4c0', '2f6f96b9d4824b78818e3ca281f28f13', '0f58bc6f2a8044adbca6596b1e7170ee', 'a81f24f3b1474d328a00bc7ff4f324c4', '6135c9a8ee884f55a44b6c1a168ac69f', 'ca57af2149bb43d5bcda022cbc74b871', '0a6f83a28e6d4c39bf68bb47f2042cb2', '6ac9de701a54416ba3e5a3a62de4b66f', '1c296fc5aaaf43ecb9b1f2fcefc21cfd', '9607e30524f144eb8c3b41e5aed80f85', 'f1692c4171074e65b9b3c4c8767badff', '2e655573865445fe8f7b6afa4be2fb39', '58845b2bb2c847888e8c527d51bbf871', '57984180f7a04d9a9cf1aa727d93d798', '3be8f6f905ff472c8d8c1280ad7ddcea', 'aef95ca23b5b42008548aa80927a889b', 'e3967b15e31e4a1dbecc3736fd23faf4', 'cb5eb2507b1146b9927faf6d08a353ea', 'e205e0b1a5794040b70d813b7ac62ba0', 'b6df3110963f4ec1ae7882fd31438758', '77ae53271f4a4ffd84ed159d2a229f71', '0ce55eab77d34f6d994cc9bba31b93ad', 'a850f86f18e14fb5ab720c3e9b39e11d', 'f5f8c8ab033d4c749d5656a1a460efde', '9e8885e5ed0f4c8a935a94a729104056', '8c3d9ad5cd9e40689743092703e61d23', '9313359e034f4f20993399b77349f689', '4f90c2d259044356b5bdea07f4511cc1', '7925c7c164bc47a0add37d7582b80c8e', '1fc82d2b1d4747068a88366dc3534b8a', 'c54e0990f2cb4a8ab506ed85b20da3ab', '8f4eed7ec4cd4cb1be8372f7bbe59bd1', '8381bc5aa2404e28a5e65335214f34cd', 'ccb109ada66d4f00b447c04a64242025', '1bc3936a6a4c4df6a56f9b3b74ea58f4', '32454825b7544182801d2fb1a51c4366', 'aee766d014e7448e97d8fcee77ead9e2', 'fcb880f4636d4fbd80a1250244e0f8b8', 'a8229daddb0a4c6d9f8057c31fcb3f5e', '2688a9c759e44750b1278a1e22af5c2a', '37f640bda6414c9cb122d80ff985aae8', '484202e60ac945779b46b882222bfcc1', '562ae91e52244c0890687291b3f683c7', '7d892467a1bc49418512babf4f352306', '646410b365ba402b80a08887ce209634', '6866eb272f094ac8a80fe4ca7d920380', '3dd59bc260614ceb9f4cc9e0313c0751', 'bb500c9853ee44688d51d8b579efa9e0', 'da94eb4e82b64e42b5c548dde957d9cf', '1d11469b65624961a84fca21642b4828', '9fc50fcd132749db9f61aca01431a1fa', 'f7be861b1f984a55b2609a041545e746', '90acfc8c4b2a40a8b1df2578d1581c4c', '69a92042de7c42b398d39e3bd68c7335', '6ec7abbaa1a84027b4dd394d83e3d399', '788fc85cf1444aca9a00ad3c58063a69', '717e6de1e2f44c0894f065a30c8cf2d9', '4cfe016440ca4993887e4baa3b8cc227', 'aacbedfbe9d84195b5e732ab504e906d', '18cd926152b54e77975e502b96002309', 'a23e6e7b3a78455ca8632908ba9aa157', 'acdd54b891f94f0595abcc461898b7f2', '2fd9693dc0b946a388d6f185b693e628', 'd22ce8fefecc4cd4b9cee2939f68b5e5', 'c8282c6c9fc246c29bb52dc71452e523', 'bb5161b9d5fc43109946c679f6466e9b', '672d64bf78a5405f876977553cf47567', '804fd4284e8745a5a851f2708dfa0ecd', '6b19d49142fb42c8aa37069f4265bb03', '6cbf0215f4764f28b49c23da22d348b4', 'bedc41dd7f794d3d885692096b33ea1d', '92082617ff7541558ceef304fa13f9a3', '3b00d2c9393d46d7a1774dbddd81834d', 'd500d9c5b8d6415f9d6945922a7e16d0', '46314ec0db07460987325e89ce468195', '80a276b2ebe14c10bbbc2a02ecfc5855', '64135b6c4d9b45038b8535025a0ea20b', '218d7427f54d41ebb9a61a2a74a939ba', '7885a57f359141a8822b9e112bbb956e', 'f37c16deb67243e4b85635befd50b9e7', '8b4c13f5255543ec978d77c8082c4ca6', '5ea690c37187413c9793143784b66345', 'e3ccc26955e24bf5922835429ce3968d', 'a405b7a3c06348408e1c94ddffb164f3', 'a296a860771b4ecd8761f1c83a3a6102', '2eb1dc8b6aa7495788cff2423356cacb', 'edece2f725c74f388ed493876ac85477', '579b56dc216647e79cc5bc651c5646b1', 'dd9fbfd67f11430ea5b7cba9ded1de6f', '6a76f9292b7e405ead54e507e95f9de2', '47a1f3bb1e0b42279ede088516a9606b', '8c5e09d84f724e8c8afdab9c711bb2ff', '70fe59db1c15409fa3e1ba248201ade9', 'd4f79af94c84465b86009236e2fbf8db', 'd07a8b61507a450bb141b493cf586581', '290c413eda0c4af48899b7f543378920', 'abfd0c6818904c4bbd622db1c00a4604', '769371c07b4d48989620e182f04a6017', '5930c677944043819056ff6fed3158ad', '8e60744766b1460b802de46b2f31392f', '68376ea62f19431aaf16bf71f8dc8647', '51d49fe45225416ca3b6699d8668a658', '1d6b7f9ee8c84621bbb09d08ad42431e', '917dfb312aad4050afea66c2488c9aa2', '52f2c742e986437082dab06372d47895', 'a6192d2e21ae4766a43bb189019e3df0', '0006f08ad4f7465ba8cbf6fcfe7dc2b1', 'eea296adbebc403fb4c5bfd084c0dab6', 'f7746abbb40c4bd9af4fc72ba96556ab', '62cd2e370f5d43f2b0452db30f643847', '28b7a18c426341d790a350e8b5287aff', '15b6bdc44ffc4c369ced921fa7ad198a', '76372e979b934aef800bff633423f0a5', '559f6fa1ca924f35856e9465793e773c', '25cf9c0b60754549a106c96e683f1f1f', '8dae6526b72d4a5c835219b89379fe9e', '05aef5378b9347dea9bfd2fa56938272', 'e7ddbd200dd942d8bec0a2cabf592252', 'b2a7a2364c21447fbdb8b19f3d75d4fa', 'ea13269ce1ce4325b849b321fa3b0ec7', '37a2a1db608a498dae55f2009304a0d1', 'ac2737d646244b67bbb1190e752a3426', '0daf50f0ac6e479a97d4ecdf8c77cb98', 'cad21c509b614d35bdfd12d607420850', '5182ff880daa4fc3b0ec27135ac5866b', '8f9f05afa10241edb5b85da2be3839c9', '1b6da8a6637e40f2b5cd17064fc0b0dd', '5ebc1738278444d6844dca6df0833f72', '097c6b416b5a4cc7a95a9d2202680a76', 'be83a0b3d2354d76b24d910581c0cafd', 'f1022d3d203549eab389ef4e90580a66', 'c27b213c57f34074a6576c40482543ad', '76650efa353c4f2c890a5f64568e4a51', '68e763abdf9244b393c3edaf38d39a9b', '31930b2cd67849b2a0bfd010226aa706', 'b7f45a48de564e5fa9b7c3292100fa5b', 'bb493a9bcb774bfa8ecfdc8bc0948d60', '760d4b0bef894f1997d881b4feeab09f', '25c1e5ca361b41fd87c944e654b99153', '5d813cdf41e94e039185944c57ca8be4', 'dae13f4fd12a464f88ec4b1e886321f5', '321fbd3957df4706ad85aff2e42fa972', 'b8962d0b3afa46b8bc93275fcc9cca07', '892e9d4894824db8aba68c158234e24a', '0a2550617e414373b27955095ddc14ca']\n"
     ]
    }
   ],
   "source": [
    "print(\"Inserted:\", insert)"
   ]
  },
  {
   "cell_type": "code",
   "execution_count": 37,
   "id": "a9f360b9-80ec-4d43-b341-4b12a9eaf311",
   "metadata": {},
   "outputs": [],
   "source": [
    "from langchain_groq import ChatGroq \n",
    "from langchain.chains.combine_documents import create_stuff_documents_chain\n",
    "from langchain_core.prompts import MessagesPlaceholder\n",
    "from langchain.chains import create_history_aware_retriever\n",
    "from langchain.chains import create_retrieval_chain"
   ]
  },
  {
   "cell_type": "code",
   "execution_count": 38,
   "id": "5564ac1f-c194-4455-90e8-d6b2e5083085",
   "metadata": {},
   "outputs": [],
   "source": [
    "model = ChatGroq(api_key=groq , model= \"llama-3.3-70b-versatile\" , temperature= 0.5)"
   ]
  },
  {
   "cell_type": "code",
   "execution_count": 39,
   "id": "186f36a2-633c-4a38-bf01-856859abef19",
   "metadata": {},
   "outputs": [],
   "source": [
    "retriver_prompt = (\"Given a chat history and the latest user question which might reference context in the chat history,\"\n",
    "    \"formulate a standalone question which can be understood without the chat history.\"\n",
    "    \"Do NOT answer the question, just reformulate it if needed and otherwise return it as is.\")"
   ]
  },
  {
   "cell_type": "code",
   "execution_count": 40,
   "id": "751f34e9-faa8-4a9a-93a3-3c46a6dfb7ee",
   "metadata": {},
   "outputs": [],
   "source": [
    "retriver = vstore.as_retriever(search_kwargs = {\"k\":3})"
   ]
  },
  {
   "cell_type": "code",
   "execution_count": 41,
   "id": "4d3d2d18-24e5-49ac-996e-77c5f45ac5a9",
   "metadata": {},
   "outputs": [
    {
     "data": {
      "text/plain": [
       "VectorStoreRetriever(tags=['AstraDBVectorStore', 'HuggingFaceBgeEmbeddings'], vectorstore=<langchain_astradb.vectorstores.AstraDBVectorStore object at 0x00000207763BB160>, search_kwargs={'k': 3})"
      ]
     },
     "execution_count": 41,
     "metadata": {},
     "output_type": "execute_result"
    }
   ],
   "source": [
    "retriver"
   ]
  },
  {
   "cell_type": "code",
   "execution_count": 42,
   "id": "bc0ab04a-7862-4794-8d02-1deb311e0c4f",
   "metadata": {},
   "outputs": [],
   "source": [
    "from langchain_core.prompts import ChatPromptTemplate"
   ]
  },
  {
   "cell_type": "code",
   "execution_count": 43,
   "id": "71fcc933-7717-46d6-9448-cd0147726f10",
   "metadata": {},
   "outputs": [],
   "source": [
    "contextualize_q_prompt = ChatPromptTemplate.from_messages(\n",
    "    [\n",
    "    (\"system\", retriver_prompt),\n",
    "    MessagesPlaceholder(variable_name=\"chat_history\"),\n",
    "    (\"human\", \"{input}\"),\n",
    "    ]\n",
    ")"
   ]
  },
  {
   "cell_type": "code",
   "execution_count": 44,
   "id": "b54bb6cf-4214-4761-b67b-e5eba864d617",
   "metadata": {},
   "outputs": [],
   "source": [
    "history_aware_retriever = create_history_aware_retriever(model, retriver, contextualize_q_prompt)"
   ]
  },
  {
   "cell_type": "code",
   "execution_count": 45,
   "id": "c04f4394-3be3-474e-b0f1-80afa14ac49e",
   "metadata": {},
   "outputs": [
    {
     "data": {
      "text/plain": [
       "RunnableBinding(bound=RunnableBranch(branches=[(RunnableLambda(lambda x: not x.get('chat_history', False)), RunnableLambda(lambda x: x['input'])\n",
       "| VectorStoreRetriever(tags=['AstraDBVectorStore', 'HuggingFaceBgeEmbeddings'], vectorstore=<langchain_astradb.vectorstores.AstraDBVectorStore object at 0x00000207763BB160>, search_kwargs={'k': 3}))], default=ChatPromptTemplate(input_variables=['chat_history', 'input'], input_types={'chat_history': list[typing.Annotated[typing.Union[typing.Annotated[langchain_core.messages.ai.AIMessage, Tag(tag='ai')], typing.Annotated[langchain_core.messages.human.HumanMessage, Tag(tag='human')], typing.Annotated[langchain_core.messages.chat.ChatMessage, Tag(tag='chat')], typing.Annotated[langchain_core.messages.system.SystemMessage, Tag(tag='system')], typing.Annotated[langchain_core.messages.function.FunctionMessage, Tag(tag='function')], typing.Annotated[langchain_core.messages.tool.ToolMessage, Tag(tag='tool')], typing.Annotated[langchain_core.messages.ai.AIMessageChunk, Tag(tag='AIMessageChunk')], typing.Annotated[langchain_core.messages.human.HumanMessageChunk, Tag(tag='HumanMessageChunk')], typing.Annotated[langchain_core.messages.chat.ChatMessageChunk, Tag(tag='ChatMessageChunk')], typing.Annotated[langchain_core.messages.system.SystemMessageChunk, Tag(tag='SystemMessageChunk')], typing.Annotated[langchain_core.messages.function.FunctionMessageChunk, Tag(tag='FunctionMessageChunk')], typing.Annotated[langchain_core.messages.tool.ToolMessageChunk, Tag(tag='ToolMessageChunk')]], FieldInfo(annotation=NoneType, required=True, discriminator=Discriminator(discriminator=<function _get_type at 0x00000207771A5CF0>, custom_error_type=None, custom_error_message=None, custom_error_context=None))]]}, partial_variables={}, messages=[SystemMessagePromptTemplate(prompt=PromptTemplate(input_variables=[], input_types={}, partial_variables={}, template='Given a chat history and the latest user question which might reference context in the chat history,formulate a standalone question which can be understood without the chat history.Do NOT answer the question, just reformulate it if needed and otherwise return it as is.'), additional_kwargs={}), MessagesPlaceholder(variable_name='chat_history'), HumanMessagePromptTemplate(prompt=PromptTemplate(input_variables=['input'], input_types={}, partial_variables={}, template='{input}'), additional_kwargs={})])\n",
       "| ChatGroq(client=<groq.resources.chat.completions.Completions object at 0x000002078922F4C0>, async_client=<groq.resources.chat.completions.AsyncCompletions object at 0x000002071D257EE0>, model_name='llama-3.3-70b-versatile', temperature=0.5, model_kwargs={}, groq_api_key=SecretStr('**********'))\n",
       "| StrOutputParser()\n",
       "| VectorStoreRetriever(tags=['AstraDBVectorStore', 'HuggingFaceBgeEmbeddings'], vectorstore=<langchain_astradb.vectorstores.AstraDBVectorStore object at 0x00000207763BB160>, search_kwargs={'k': 3})), kwargs={}, config={'run_name': 'chat_retriever_chain'}, config_factories=[])"
      ]
     },
     "execution_count": 45,
     "metadata": {},
     "output_type": "execute_result"
    }
   ],
   "source": [
    "history_aware_retriever"
   ]
  },
  {
   "cell_type": "code",
   "execution_count": 46,
   "id": "cc2a555c-2872-4784-92a9-d15d7b81035e",
   "metadata": {},
   "outputs": [],
   "source": [
    "PRODUCT_BOT_TEMPLATE = \"\"\"\n",
    "    Your ecommercebot bot is an expert in product recommendations and customer queries.\n",
    "    It analyzes product titles and reviews to provide accurate and helpful responses.\n",
    "    Ensure your answers are relevant to the product context and refrain from straying off-topic.\n",
    "    Your responses should be concise and informative.\n",
    "\n",
    "    CONTEXT:\n",
    "    {context}\n",
    "\n",
    "    QUESTION: {input}\n",
    "\n",
    "    YOUR ANSWER:\n",
    "\n",
    "    \"\"\""
   ]
  },
  {
   "cell_type": "code",
   "execution_count": 47,
   "id": "6a098578-cab5-436a-a721-885f704c1d88",
   "metadata": {},
   "outputs": [],
   "source": [
    "qa_prompt = ChatPromptTemplate.from_messages(\n",
    "    [\n",
    "        (\"system\", PRODUCT_BOT_TEMPLATE),\n",
    "        MessagesPlaceholder(variable_name=\"chat_history\"),\n",
    "        (\"human\", \"{input}\")\n",
    "    ]\n",
    ")"
   ]
  },
  {
   "cell_type": "code",
   "execution_count": 48,
   "id": "c0cfe6b9-5fd9-4021-9a6a-91028416ae88",
   "metadata": {},
   "outputs": [],
   "source": [
    "question_answer_chain = create_stuff_documents_chain(model, qa_prompt)"
   ]
  },
  {
   "cell_type": "code",
   "execution_count": 49,
   "id": "00acc085-dc0c-4b0a-97c8-820c37cab6c8",
   "metadata": {},
   "outputs": [],
   "source": [
    "chain = create_retrieval_chain(history_aware_retriever, question_answer_chain)"
   ]
  },
  {
   "cell_type": "code",
   "execution_count": 50,
   "id": "94e98520-ae32-4334-bae7-e75ac9448775",
   "metadata": {},
   "outputs": [],
   "source": [
    "chat_history = []"
   ]
  },
  {
   "cell_type": "markdown",
   "id": "361a706f-ef5d-4812-8941-9888618e953e",
   "metadata": {},
   "source": [
    "## chat history"
   ]
  },
  {
   "cell_type": "code",
   "execution_count": 51,
   "id": "86d8e37e-4a90-4e8b-8509-390354e870e8",
   "metadata": {},
   "outputs": [],
   "source": [
    "chat_history = []"
   ]
  },
  {
   "cell_type": "code",
   "execution_count": 52,
   "id": "e16330ec-5808-45d5-97bc-fc526d3729f0",
   "metadata": {},
   "outputs": [],
   "source": [
    "from langchain_community.chat_message_histories import ChatMessageHistory\n",
    "from langchain_core.chat_history import BaseChatMessageHistory\n",
    "from langchain_core.runnables import RunnableWithMessageHistory"
   ]
  },
  {
   "cell_type": "code",
   "execution_count": 53,
   "id": "ec77f3b3-b11d-43df-8662-28175e0a10b5",
   "metadata": {},
   "outputs": [],
   "source": [
    "store = {}"
   ]
  },
  {
   "cell_type": "code",
   "execution_count": 54,
   "id": "ece7709a-ea3a-41ff-acdd-adc7474718c7",
   "metadata": {},
   "outputs": [],
   "source": [
    "def get_session_history(session_id: str)-> BaseChatMessageHistory:\n",
    "  if session_id not in store:\n",
    "    store[session_id]= ChatMessageHistory()\n",
    "  return store[session_id]"
   ]
  },
  {
   "cell_type": "code",
   "execution_count": 55,
   "id": "db68317b-632c-47d9-a9cd-2916c88cf175",
   "metadata": {},
   "outputs": [],
   "source": [
    "chain_with_memmory = RunnableWithMessageHistory(\n",
    "    chain,\n",
    "    get_session_history,\n",
    "    input_messages_key=\"input\",\n",
    "    history_messages_key=\"chat_history\",\n",
    "    output_messages_key=\"answer\",\n",
    ")"
   ]
  },
  {
   "cell_type": "code",
   "execution_count": 62,
   "id": "6a10d0f3-26c4-46e1-a5a6-045b47b2e9ba",
   "metadata": {},
   "outputs": [
    {
     "data": {
      "text/plain": [
       "'Based on the provided information, here are some options under 1 lakh:\\n\\n1. The phone with MTK D900 Octa Core 2.4GHz 6nm Processor, 6GB RAM, and 128GB internal memory, priced competitively.\\n2. The device with Qualcomm Snapdragon 860 Octa-core processor, 6GB RAM, and 128GB Internal Storage, offering a large 10.95\" Dolby Vision display.\\n3. The phone with Snapdragon 870 5G Mobile Platform, 80W FlashCharge Technology, and 120Hz E4 AMOLED Display, featuring a 64MP OIS Main Camera.\\n\\nThese options seem to offer a good balance of performance, camera capabilities, and display quality under the 1 lakh budget. However, I would recommend comparing their prices and features to determine the best fit for your needs.'"
      ]
     },
     "execution_count": 62,
     "metadata": {},
     "output_type": "execute_result"
    }
   ],
   "source": [
    "chain_with_memmory.invoke(\n",
    "   {\"input\": \"suggest me some best phone under 1lakh?\"},\n",
    "    config={\n",
    "        \"configurable\": {\"session_id\": \"1234\"}\n",
    "    },\n",
    ")[\"answer\"]"
   ]
  },
  {
   "cell_type": "code",
   "execution_count": 63,
   "id": "b883fe10-cc5d-421b-880e-2c1b6d59f95f",
   "metadata": {},
   "outputs": [
    {
     "data": {
      "text/plain": [
       "'Your previous question was \"suggest me some best phone under 1lakh?\"'"
      ]
     },
     "execution_count": 63,
     "metadata": {},
     "output_type": "execute_result"
    }
   ],
   "source": [
    "chain_with_memmory.invoke(\n",
    "   {\"input\": \"what are the my previous question\"},\n",
    "    config={\n",
    "        \"configurable\": {\"session_id\": \"1234\"}\n",
    "    },\n",
    ")[\"answer\"]"
   ]
  },
  {
   "cell_type": "code",
   "execution_count": null,
   "id": "68e277fe-92e5-487b-a1d6-bbc267a8fe9b",
   "metadata": {},
   "outputs": [],
   "source": []
  }
 ],
 "metadata": {
  "kernelspec": {
   "display_name": "genai_env",
   "language": "python",
   "name": "genai_env"
  },
  "language_info": {
   "codemirror_mode": {
    "name": "ipython",
    "version": 3
   },
   "file_extension": ".py",
   "mimetype": "text/x-python",
   "name": "python",
   "nbconvert_exporter": "python",
   "pygments_lexer": "ipython3",
   "version": "3.10.18"
  }
 },
 "nbformat": 4,
 "nbformat_minor": 5
}
